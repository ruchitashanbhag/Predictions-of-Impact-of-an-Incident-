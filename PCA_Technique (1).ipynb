{
 "cells": [
  {
   "cell_type": "markdown",
   "metadata": {
    "colab_type": "text",
    "id": "tdsVPAxmjpsp"
   },
   "source": [
    "# Data Importing And Cleaning"
   ]
  },
  {
   "cell_type": "code",
   "execution_count": null,
   "metadata": {
    "colab": {
     "base_uri": "https://localhost:8080/",
     "height": 122
    },
    "colab_type": "code",
    "id": "SjAn2bnHeBKg",
    "outputId": "ed9720d1-912c-4949-8727-4fcad24f4845"
   },
   "outputs": [
    {
     "name": "stdout",
     "output_type": "stream",
     "text": [
      "Go to this URL in a browser: https://accounts.google.com/o/oauth2/auth?client_id=947318989803-6bn6qk8qdgf4n4g3pfee6491hc0brc4i.apps.googleusercontent.com&redirect_uri=urn%3aietf%3awg%3aoauth%3a2.0%3aoob&scope=email%20https%3a%2f%2fwww.googleapis.com%2fauth%2fdocs.test%20https%3a%2f%2fwww.googleapis.com%2fauth%2fdrive%20https%3a%2f%2fwww.googleapis.com%2fauth%2fdrive.photos.readonly%20https%3a%2f%2fwww.googleapis.com%2fauth%2fpeopleapi.readonly&response_type=code\n",
      "\n",
      "Enter your authorization code:\n",
      "4/4AFFL_hAmhLZhWVLGEXzRlOMXaTSi_wVog_pclYrt6BouMwZTLgBMy0\n",
      "Mounted at /content/gdrive\n"
     ]
    }
   ],
   "source": [
    "from google.colab import drive\n",
    "drive.mount('/content/gdrive')"
   ]
  },
  {
   "cell_type": "code",
   "execution_count": null,
   "metadata": {
    "colab": {
     "base_uri": "https://localhost:8080/",
     "height": 34
    },
    "colab_type": "code",
    "id": "ei4x-DDAeJ3P",
    "outputId": "ae0e8fc6-b929-416c-d196-ba5dc9ae4717"
   },
   "outputs": [
    {
     "data": {
      "text/plain": [
       "(141712, 25)"
      ]
     },
     "execution_count": 2,
     "metadata": {
      "tags": []
     },
     "output_type": "execute_result"
    }
   ],
   "source": [
    "import pandas as pd\n",
    "df = pd.read_excel('/content/gdrive/My Drive/Colab Notebooks/Datasets/Incidents_service.xlsx')\n",
    "df.shape"
   ]
  },
  {
   "cell_type": "code",
   "execution_count": null,
   "metadata": {
    "colab": {},
    "colab_type": "code",
    "id": "ApxBwz1cv7Wk"
   },
   "outputs": [],
   "source": [
    "import numpy as np\n",
    "import warnings\n",
    "warnings.filterwarnings(\"ignore\")"
   ]
  },
  {
   "cell_type": "markdown",
   "metadata": {
    "colab_type": "text",
    "id": "BeyAMs9ajvn1"
   },
   "source": [
    "## 1.Feature Selection"
   ]
  },
  {
   "cell_type": "code",
   "execution_count": null,
   "metadata": {
    "colab": {
     "base_uri": "https://localhost:8080/",
     "height": 34
    },
    "colab_type": "code",
    "id": "5IwfpyFWev-d",
    "outputId": "a5be9622-a756-45c2-e329-ae04cf9414b3"
   },
   "outputs": [
    {
     "data": {
      "text/plain": [
       "(141712, 6)"
      ]
     },
     "execution_count": 4,
     "metadata": {
      "tags": []
     },
     "output_type": "execute_result"
    }
   ],
   "source": [
    "df_new = df[[ 'count_updated', 'opened_by', 'Support_group', 'category_ID', 'ID_status','impact']]\n",
    "df_new.shape"
   ]
  },
  {
   "cell_type": "code",
   "execution_count": null,
   "metadata": {
    "colab": {
     "base_uri": "https://localhost:8080/",
     "height": 170
    },
    "colab_type": "code",
    "id": "3RP3Zd_VfFh4",
    "outputId": "cb0c137c-6de2-4a80-8ebb-87381aefeb81"
   },
   "outputs": [
    {
     "data": {
      "text/plain": [
       "Active                38716\n",
       "New                   36407\n",
       "Resolved              25751\n",
       "Closed                24985\n",
       "Awaiting User Info    14642\n",
       "Awaiting Vendor         707\n",
       "Awaiting Problem        461\n",
       "Awaiting Evidence        38\n",
       "Name: ID_status, dtype: int64"
      ]
     },
     "execution_count": 5,
     "metadata": {
      "tags": []
     },
     "output_type": "execute_result"
    }
   ],
   "source": [
    "df_new = df_new[df_new.ID_status != -100]\n",
    "df_new.ID_status.value_counts()"
   ]
  },
  {
   "cell_type": "code",
   "execution_count": null,
   "metadata": {
    "colab": {
     "base_uri": "https://localhost:8080/",
     "height": 51
    },
    "colab_type": "code",
    "id": "qf9o6RamfNnk",
    "outputId": "a7b51dcf-f64e-46fd-b4a4-073a86d6178d"
   },
   "outputs": [
    {
     "name": "stdout",
     "output_type": "stream",
     "text": [
      "(141707, 6)\n",
      "(141707, 6)\n"
     ]
    }
   ],
   "source": [
    "df_copy = df_new\n",
    "df_new.head()\n",
    "print(df_copy.shape)\n",
    "print(df_new.shape)"
   ]
  },
  {
   "cell_type": "code",
   "execution_count": null,
   "metadata": {
    "colab": {
     "base_uri": "https://localhost:8080/",
     "height": 372
    },
    "colab_type": "code",
    "id": "5ZxB_aa8fOkH",
    "outputId": "91734b95-3551-4cfd-e6c7-71c479419487"
   },
   "outputs": [
    {
     "name": "stdout",
     "output_type": "stream",
     "text": [
      "(141707, 349)\n"
     ]
    },
    {
     "data": {
      "text/html": [
       "<div>\n",
       "<style scoped>\n",
       "    .dataframe tbody tr th:only-of-type {\n",
       "        vertical-align: middle;\n",
       "    }\n",
       "\n",
       "    .dataframe tbody tr th {\n",
       "        vertical-align: top;\n",
       "    }\n",
       "\n",
       "    .dataframe thead th {\n",
       "        text-align: right;\n",
       "    }\n",
       "</style>\n",
       "<table border=\"1\" class=\"dataframe\">\n",
       "  <thead>\n",
       "    <tr style=\"text-align: right;\">\n",
       "      <th></th>\n",
       "      <th>count_updated</th>\n",
       "      <th>impact</th>\n",
       "      <th>Support_group_Group 11</th>\n",
       "      <th>Support_group_Group 12</th>\n",
       "      <th>Support_group_Group 13</th>\n",
       "      <th>Support_group_Group 14</th>\n",
       "      <th>Support_group_Group 15</th>\n",
       "      <th>Support_group_Group 16</th>\n",
       "      <th>Support_group_Group 17</th>\n",
       "      <th>Support_group_Group 18</th>\n",
       "      <th>Support_group_Group 19</th>\n",
       "      <th>Support_group_Group 2</th>\n",
       "      <th>Support_group_Group 20</th>\n",
       "      <th>Support_group_Group 21</th>\n",
       "      <th>Support_group_Group 22</th>\n",
       "      <th>Support_group_Group 23</th>\n",
       "      <th>Support_group_Group 24</th>\n",
       "      <th>Support_group_Group 25</th>\n",
       "      <th>Support_group_Group 26</th>\n",
       "      <th>Support_group_Group 27</th>\n",
       "      <th>Support_group_Group 28</th>\n",
       "      <th>Support_group_Group 29</th>\n",
       "      <th>Support_group_Group 3</th>\n",
       "      <th>Support_group_Group 30</th>\n",
       "      <th>Support_group_Group 31</th>\n",
       "      <th>Support_group_Group 32</th>\n",
       "      <th>Support_group_Group 33</th>\n",
       "      <th>Support_group_Group 34</th>\n",
       "      <th>Support_group_Group 35</th>\n",
       "      <th>Support_group_Group 36</th>\n",
       "      <th>Support_group_Group 37</th>\n",
       "      <th>Support_group_Group 38</th>\n",
       "      <th>Support_group_Group 39</th>\n",
       "      <th>Support_group_Group 4</th>\n",
       "      <th>Support_group_Group 41</th>\n",
       "      <th>Support_group_Group 43</th>\n",
       "      <th>Support_group_Group 44</th>\n",
       "      <th>Support_group_Group 45</th>\n",
       "      <th>Support_group_Group 46</th>\n",
       "      <th>Support_group_Group 47</th>\n",
       "      <th>...</th>\n",
       "      <th>opened_by_Opened by  503</th>\n",
       "      <th>opened_by_Opened by  505</th>\n",
       "      <th>opened_by_Opened by  508</th>\n",
       "      <th>opened_by_Opened by  512</th>\n",
       "      <th>opened_by_Opened by  515</th>\n",
       "      <th>opened_by_Opened by  517</th>\n",
       "      <th>opened_by_Opened by  519</th>\n",
       "      <th>opened_by_Opened by  52</th>\n",
       "      <th>opened_by_Opened by  520</th>\n",
       "      <th>opened_by_Opened by  524</th>\n",
       "      <th>opened_by_Opened by  528</th>\n",
       "      <th>opened_by_Opened by  530</th>\n",
       "      <th>opened_by_Opened by  533</th>\n",
       "      <th>opened_by_Opened by  535</th>\n",
       "      <th>opened_by_Opened by  536</th>\n",
       "      <th>opened_by_Opened by  538</th>\n",
       "      <th>opened_by_Opened by  54</th>\n",
       "      <th>opened_by_Opened by  55</th>\n",
       "      <th>opened_by_Opened by  58</th>\n",
       "      <th>opened_by_Opened by  59</th>\n",
       "      <th>opened_by_Opened by  60</th>\n",
       "      <th>opened_by_Opened by  62</th>\n",
       "      <th>opened_by_Opened by  66</th>\n",
       "      <th>opened_by_Opened by  67</th>\n",
       "      <th>opened_by_Opened by  68</th>\n",
       "      <th>opened_by_Opened by  7</th>\n",
       "      <th>opened_by_Opened by  70</th>\n",
       "      <th>opened_by_Opened by  72</th>\n",
       "      <th>opened_by_Opened by  73</th>\n",
       "      <th>opened_by_Opened by  74</th>\n",
       "      <th>opened_by_Opened by  75</th>\n",
       "      <th>opened_by_Opened by  77</th>\n",
       "      <th>opened_by_Opened by  79</th>\n",
       "      <th>opened_by_Opened by  8</th>\n",
       "      <th>opened_by_Opened by  80</th>\n",
       "      <th>opened_by_Opened by  88</th>\n",
       "      <th>opened_by_Opened by  9</th>\n",
       "      <th>opened_by_Opened by  90</th>\n",
       "      <th>opened_by_Opened by  91</th>\n",
       "      <th>opened_by_Opened by  94</th>\n",
       "    </tr>\n",
       "  </thead>\n",
       "  <tbody>\n",
       "    <tr>\n",
       "      <th>0</th>\n",
       "      <td>0</td>\n",
       "      <td>2 - Medium</td>\n",
       "      <td>0</td>\n",
       "      <td>0</td>\n",
       "      <td>0</td>\n",
       "      <td>0</td>\n",
       "      <td>0</td>\n",
       "      <td>0</td>\n",
       "      <td>0</td>\n",
       "      <td>0</td>\n",
       "      <td>0</td>\n",
       "      <td>0</td>\n",
       "      <td>0</td>\n",
       "      <td>0</td>\n",
       "      <td>0</td>\n",
       "      <td>0</td>\n",
       "      <td>0</td>\n",
       "      <td>0</td>\n",
       "      <td>0</td>\n",
       "      <td>0</td>\n",
       "      <td>0</td>\n",
       "      <td>0</td>\n",
       "      <td>0</td>\n",
       "      <td>0</td>\n",
       "      <td>0</td>\n",
       "      <td>0</td>\n",
       "      <td>0</td>\n",
       "      <td>0</td>\n",
       "      <td>0</td>\n",
       "      <td>0</td>\n",
       "      <td>0</td>\n",
       "      <td>0</td>\n",
       "      <td>0</td>\n",
       "      <td>0</td>\n",
       "      <td>0</td>\n",
       "      <td>0</td>\n",
       "      <td>0</td>\n",
       "      <td>0</td>\n",
       "      <td>0</td>\n",
       "      <td>0</td>\n",
       "      <td>...</td>\n",
       "      <td>0</td>\n",
       "      <td>0</td>\n",
       "      <td>0</td>\n",
       "      <td>0</td>\n",
       "      <td>0</td>\n",
       "      <td>0</td>\n",
       "      <td>0</td>\n",
       "      <td>0</td>\n",
       "      <td>0</td>\n",
       "      <td>0</td>\n",
       "      <td>0</td>\n",
       "      <td>0</td>\n",
       "      <td>0</td>\n",
       "      <td>0</td>\n",
       "      <td>0</td>\n",
       "      <td>0</td>\n",
       "      <td>0</td>\n",
       "      <td>0</td>\n",
       "      <td>0</td>\n",
       "      <td>0</td>\n",
       "      <td>0</td>\n",
       "      <td>0</td>\n",
       "      <td>0</td>\n",
       "      <td>0</td>\n",
       "      <td>0</td>\n",
       "      <td>0</td>\n",
       "      <td>0</td>\n",
       "      <td>0</td>\n",
       "      <td>0</td>\n",
       "      <td>0</td>\n",
       "      <td>0</td>\n",
       "      <td>0</td>\n",
       "      <td>0</td>\n",
       "      <td>1</td>\n",
       "      <td>0</td>\n",
       "      <td>0</td>\n",
       "      <td>0</td>\n",
       "      <td>0</td>\n",
       "      <td>0</td>\n",
       "      <td>0</td>\n",
       "    </tr>\n",
       "    <tr>\n",
       "      <th>1</th>\n",
       "      <td>3</td>\n",
       "      <td>2 - Medium</td>\n",
       "      <td>0</td>\n",
       "      <td>0</td>\n",
       "      <td>0</td>\n",
       "      <td>0</td>\n",
       "      <td>0</td>\n",
       "      <td>0</td>\n",
       "      <td>0</td>\n",
       "      <td>0</td>\n",
       "      <td>0</td>\n",
       "      <td>0</td>\n",
       "      <td>0</td>\n",
       "      <td>0</td>\n",
       "      <td>0</td>\n",
       "      <td>0</td>\n",
       "      <td>0</td>\n",
       "      <td>0</td>\n",
       "      <td>0</td>\n",
       "      <td>0</td>\n",
       "      <td>0</td>\n",
       "      <td>0</td>\n",
       "      <td>0</td>\n",
       "      <td>0</td>\n",
       "      <td>0</td>\n",
       "      <td>0</td>\n",
       "      <td>0</td>\n",
       "      <td>0</td>\n",
       "      <td>0</td>\n",
       "      <td>0</td>\n",
       "      <td>0</td>\n",
       "      <td>0</td>\n",
       "      <td>0</td>\n",
       "      <td>0</td>\n",
       "      <td>0</td>\n",
       "      <td>0</td>\n",
       "      <td>0</td>\n",
       "      <td>0</td>\n",
       "      <td>0</td>\n",
       "      <td>0</td>\n",
       "      <td>...</td>\n",
       "      <td>0</td>\n",
       "      <td>0</td>\n",
       "      <td>0</td>\n",
       "      <td>0</td>\n",
       "      <td>0</td>\n",
       "      <td>0</td>\n",
       "      <td>0</td>\n",
       "      <td>0</td>\n",
       "      <td>0</td>\n",
       "      <td>0</td>\n",
       "      <td>0</td>\n",
       "      <td>0</td>\n",
       "      <td>0</td>\n",
       "      <td>0</td>\n",
       "      <td>0</td>\n",
       "      <td>0</td>\n",
       "      <td>0</td>\n",
       "      <td>0</td>\n",
       "      <td>0</td>\n",
       "      <td>0</td>\n",
       "      <td>0</td>\n",
       "      <td>0</td>\n",
       "      <td>0</td>\n",
       "      <td>0</td>\n",
       "      <td>0</td>\n",
       "      <td>0</td>\n",
       "      <td>0</td>\n",
       "      <td>0</td>\n",
       "      <td>0</td>\n",
       "      <td>0</td>\n",
       "      <td>0</td>\n",
       "      <td>0</td>\n",
       "      <td>0</td>\n",
       "      <td>1</td>\n",
       "      <td>0</td>\n",
       "      <td>0</td>\n",
       "      <td>0</td>\n",
       "      <td>0</td>\n",
       "      <td>0</td>\n",
       "      <td>0</td>\n",
       "    </tr>\n",
       "    <tr>\n",
       "      <th>2</th>\n",
       "      <td>4</td>\n",
       "      <td>2 - Medium</td>\n",
       "      <td>0</td>\n",
       "      <td>0</td>\n",
       "      <td>0</td>\n",
       "      <td>0</td>\n",
       "      <td>0</td>\n",
       "      <td>0</td>\n",
       "      <td>0</td>\n",
       "      <td>0</td>\n",
       "      <td>0</td>\n",
       "      <td>0</td>\n",
       "      <td>0</td>\n",
       "      <td>0</td>\n",
       "      <td>0</td>\n",
       "      <td>0</td>\n",
       "      <td>0</td>\n",
       "      <td>0</td>\n",
       "      <td>0</td>\n",
       "      <td>0</td>\n",
       "      <td>0</td>\n",
       "      <td>0</td>\n",
       "      <td>0</td>\n",
       "      <td>0</td>\n",
       "      <td>0</td>\n",
       "      <td>0</td>\n",
       "      <td>0</td>\n",
       "      <td>0</td>\n",
       "      <td>0</td>\n",
       "      <td>0</td>\n",
       "      <td>0</td>\n",
       "      <td>0</td>\n",
       "      <td>0</td>\n",
       "      <td>0</td>\n",
       "      <td>0</td>\n",
       "      <td>0</td>\n",
       "      <td>0</td>\n",
       "      <td>0</td>\n",
       "      <td>0</td>\n",
       "      <td>0</td>\n",
       "      <td>...</td>\n",
       "      <td>0</td>\n",
       "      <td>0</td>\n",
       "      <td>0</td>\n",
       "      <td>0</td>\n",
       "      <td>0</td>\n",
       "      <td>0</td>\n",
       "      <td>0</td>\n",
       "      <td>0</td>\n",
       "      <td>0</td>\n",
       "      <td>0</td>\n",
       "      <td>0</td>\n",
       "      <td>0</td>\n",
       "      <td>0</td>\n",
       "      <td>0</td>\n",
       "      <td>0</td>\n",
       "      <td>0</td>\n",
       "      <td>0</td>\n",
       "      <td>0</td>\n",
       "      <td>0</td>\n",
       "      <td>0</td>\n",
       "      <td>0</td>\n",
       "      <td>0</td>\n",
       "      <td>0</td>\n",
       "      <td>0</td>\n",
       "      <td>0</td>\n",
       "      <td>0</td>\n",
       "      <td>0</td>\n",
       "      <td>0</td>\n",
       "      <td>0</td>\n",
       "      <td>0</td>\n",
       "      <td>0</td>\n",
       "      <td>0</td>\n",
       "      <td>0</td>\n",
       "      <td>1</td>\n",
       "      <td>0</td>\n",
       "      <td>0</td>\n",
       "      <td>0</td>\n",
       "      <td>0</td>\n",
       "      <td>0</td>\n",
       "      <td>0</td>\n",
       "    </tr>\n",
       "    <tr>\n",
       "      <th>3</th>\n",
       "      <td>1</td>\n",
       "      <td>2 - Medium</td>\n",
       "      <td>0</td>\n",
       "      <td>0</td>\n",
       "      <td>0</td>\n",
       "      <td>0</td>\n",
       "      <td>0</td>\n",
       "      <td>0</td>\n",
       "      <td>0</td>\n",
       "      <td>0</td>\n",
       "      <td>0</td>\n",
       "      <td>0</td>\n",
       "      <td>0</td>\n",
       "      <td>0</td>\n",
       "      <td>0</td>\n",
       "      <td>0</td>\n",
       "      <td>1</td>\n",
       "      <td>0</td>\n",
       "      <td>0</td>\n",
       "      <td>0</td>\n",
       "      <td>0</td>\n",
       "      <td>0</td>\n",
       "      <td>0</td>\n",
       "      <td>0</td>\n",
       "      <td>0</td>\n",
       "      <td>0</td>\n",
       "      <td>0</td>\n",
       "      <td>0</td>\n",
       "      <td>0</td>\n",
       "      <td>0</td>\n",
       "      <td>0</td>\n",
       "      <td>0</td>\n",
       "      <td>0</td>\n",
       "      <td>0</td>\n",
       "      <td>0</td>\n",
       "      <td>0</td>\n",
       "      <td>0</td>\n",
       "      <td>0</td>\n",
       "      <td>0</td>\n",
       "      <td>0</td>\n",
       "      <td>...</td>\n",
       "      <td>0</td>\n",
       "      <td>0</td>\n",
       "      <td>0</td>\n",
       "      <td>0</td>\n",
       "      <td>0</td>\n",
       "      <td>0</td>\n",
       "      <td>0</td>\n",
       "      <td>0</td>\n",
       "      <td>0</td>\n",
       "      <td>0</td>\n",
       "      <td>0</td>\n",
       "      <td>0</td>\n",
       "      <td>0</td>\n",
       "      <td>0</td>\n",
       "      <td>0</td>\n",
       "      <td>0</td>\n",
       "      <td>0</td>\n",
       "      <td>0</td>\n",
       "      <td>0</td>\n",
       "      <td>0</td>\n",
       "      <td>0</td>\n",
       "      <td>0</td>\n",
       "      <td>0</td>\n",
       "      <td>0</td>\n",
       "      <td>0</td>\n",
       "      <td>0</td>\n",
       "      <td>0</td>\n",
       "      <td>0</td>\n",
       "      <td>0</td>\n",
       "      <td>0</td>\n",
       "      <td>0</td>\n",
       "      <td>0</td>\n",
       "      <td>0</td>\n",
       "      <td>0</td>\n",
       "      <td>0</td>\n",
       "      <td>0</td>\n",
       "      <td>0</td>\n",
       "      <td>0</td>\n",
       "      <td>0</td>\n",
       "      <td>0</td>\n",
       "    </tr>\n",
       "    <tr>\n",
       "      <th>4</th>\n",
       "      <td>2</td>\n",
       "      <td>2 - Medium</td>\n",
       "      <td>0</td>\n",
       "      <td>0</td>\n",
       "      <td>0</td>\n",
       "      <td>0</td>\n",
       "      <td>0</td>\n",
       "      <td>0</td>\n",
       "      <td>0</td>\n",
       "      <td>0</td>\n",
       "      <td>0</td>\n",
       "      <td>0</td>\n",
       "      <td>0</td>\n",
       "      <td>0</td>\n",
       "      <td>0</td>\n",
       "      <td>0</td>\n",
       "      <td>1</td>\n",
       "      <td>0</td>\n",
       "      <td>0</td>\n",
       "      <td>0</td>\n",
       "      <td>0</td>\n",
       "      <td>0</td>\n",
       "      <td>0</td>\n",
       "      <td>0</td>\n",
       "      <td>0</td>\n",
       "      <td>0</td>\n",
       "      <td>0</td>\n",
       "      <td>0</td>\n",
       "      <td>0</td>\n",
       "      <td>0</td>\n",
       "      <td>0</td>\n",
       "      <td>0</td>\n",
       "      <td>0</td>\n",
       "      <td>0</td>\n",
       "      <td>0</td>\n",
       "      <td>0</td>\n",
       "      <td>0</td>\n",
       "      <td>0</td>\n",
       "      <td>0</td>\n",
       "      <td>0</td>\n",
       "      <td>...</td>\n",
       "      <td>0</td>\n",
       "      <td>0</td>\n",
       "      <td>0</td>\n",
       "      <td>0</td>\n",
       "      <td>0</td>\n",
       "      <td>0</td>\n",
       "      <td>0</td>\n",
       "      <td>0</td>\n",
       "      <td>0</td>\n",
       "      <td>0</td>\n",
       "      <td>0</td>\n",
       "      <td>0</td>\n",
       "      <td>0</td>\n",
       "      <td>0</td>\n",
       "      <td>0</td>\n",
       "      <td>0</td>\n",
       "      <td>0</td>\n",
       "      <td>0</td>\n",
       "      <td>0</td>\n",
       "      <td>0</td>\n",
       "      <td>0</td>\n",
       "      <td>0</td>\n",
       "      <td>0</td>\n",
       "      <td>0</td>\n",
       "      <td>0</td>\n",
       "      <td>0</td>\n",
       "      <td>0</td>\n",
       "      <td>0</td>\n",
       "      <td>0</td>\n",
       "      <td>0</td>\n",
       "      <td>0</td>\n",
       "      <td>0</td>\n",
       "      <td>0</td>\n",
       "      <td>0</td>\n",
       "      <td>0</td>\n",
       "      <td>0</td>\n",
       "      <td>0</td>\n",
       "      <td>0</td>\n",
       "      <td>0</td>\n",
       "      <td>0</td>\n",
       "    </tr>\n",
       "  </tbody>\n",
       "</table>\n",
       "<p>5 rows × 349 columns</p>\n",
       "</div>"
      ],
      "text/plain": [
       "   count_updated      impact  ...  opened_by_Opened by  91  opened_by_Opened by  94\n",
       "0              0  2 - Medium  ...                        0                        0\n",
       "1              3  2 - Medium  ...                        0                        0\n",
       "2              4  2 - Medium  ...                        0                        0\n",
       "3              1  2 - Medium  ...                        0                        0\n",
       "4              2  2 - Medium  ...                        0                        0\n",
       "\n",
       "[5 rows x 349 columns]"
      ]
     },
     "execution_count": 7,
     "metadata": {
      "tags": []
     },
     "output_type": "execute_result"
    }
   ],
   "source": [
    "df_new = pd.get_dummies(df_new, columns=['Support_group','category_ID','ID_status','opened_by'], drop_first=True)\n",
    "print(df_new.shape)\n",
    "df_new.head()"
   ]
  },
  {
   "cell_type": "code",
   "execution_count": null,
   "metadata": {
    "colab": {
     "base_uri": "https://localhost:8080/",
     "height": 34
    },
    "colab_type": "code",
    "id": "eYOxnQ3liHBS",
    "outputId": "d3b9d342-4e6f-43c3-df04-15207449a1dd"
   },
   "outputs": [
    {
     "data": {
      "text/plain": [
       "(141707,)"
      ]
     },
     "execution_count": 8,
     "metadata": {
      "tags": []
     },
     "output_type": "execute_result"
    }
   ],
   "source": [
    "impact = df_new['impact']\n",
    "df_new.drop(columns = 'impact', inplace = True)\n",
    "impact.shape"
   ]
  },
  {
   "cell_type": "markdown",
   "metadata": {
    "colab_type": "text",
    "id": "J36GFSurkOFc"
   },
   "source": [
    "## 2. Scaling"
   ]
  },
  {
   "cell_type": "code",
   "execution_count": null,
   "metadata": {
    "colab": {
     "base_uri": "https://localhost:8080/",
     "height": 153
    },
    "colab_type": "code",
    "id": "j2i_wKQYfnab",
    "outputId": "fe6b996f-f2f0-414a-c028-37929ad6f306"
   },
   "outputs": [
    {
     "name": "stdout",
     "output_type": "stream",
     "text": [
      "   count_updated  ...  opened_by_Opened by  94\n",
      "0       0.000000  ...                      0.0\n",
      "1       0.023256  ...                      0.0\n",
      "2       0.031008  ...                      0.0\n",
      "3       0.007752  ...                      0.0\n",
      "4       0.015504  ...                      0.0\n",
      "\n",
      "[5 rows x 348 columns]\n"
     ]
    }
   ],
   "source": [
    "from sklearn.preprocessing import MinMaxScaler\n",
    "mx_scaler = MinMaxScaler()\n",
    "final_df2 = mx_scaler.fit_transform(df_new)\n",
    "final_df2 = pd.DataFrame(final_df2, columns=df_new.columns)\n",
    "print(final_df2.head())"
   ]
  },
  {
   "cell_type": "markdown",
   "metadata": {
    "colab_type": "text",
    "id": "4_MO8oOYle9V"
   },
   "source": [
    "# Dimensionality Reduction PCA"
   ]
  },
  {
   "cell_type": "code",
   "execution_count": null,
   "metadata": {
    "colab": {
     "base_uri": "https://localhost:8080/",
     "height": 238
    },
    "colab_type": "code",
    "id": "VWr6dn8hjDIL",
    "outputId": "f07d112d-0052-4654-9934-ed988db975b9"
   },
   "outputs": [
    {
     "name": "stdout",
     "output_type": "stream",
     "text": [
      "[[ 1.21570842  0.04839237 -3.17524165 ...  1.03437783 -0.53092245\n",
      "   0.36926973]\n",
      " [ 1.56492131  0.29255212 -3.1292663  ...  0.76598507 -0.6543455\n",
      "   0.84133664]\n",
      " [ 1.65978736  0.25109888 -3.11496507 ...  0.811982   -0.6689022\n",
      "   0.86872511]\n",
      " ...\n",
      " [-4.35354434 -1.09327622  5.42559575 ... -2.34466715 -6.95576163\n",
      "   7.18527822]\n",
      " [-4.35354434 -1.09327622  5.42559575 ... -2.34466715 -6.95576163\n",
      "   7.18527822]\n",
      " [ 0.66566607  0.35899169 -2.1584049  ... -0.56056368  0.69193704\n",
      "  -0.93469329]]\n"
     ]
    }
   ],
   "source": [
    "from sklearn.preprocessing import StandardScaler\n",
    "from sklearn.decomposition import PCA\n",
    "from sklearn.pipeline import Pipeline\n",
    "pipe = Pipeline([\n",
    "('scaler', StandardScaler()),\n",
    "('reducer', PCA( n_components=10 ))])\n",
    "pca = pipe.fit_transform(final_df2)\n",
    "print(pca)"
   ]
  },
  {
   "cell_type": "code",
   "execution_count": null,
   "metadata": {
    "colab": {
     "base_uri": "https://localhost:8080/",
     "height": 204
    },
    "colab_type": "code",
    "id": "q2-vR0W9sA9v",
    "outputId": "5f8ff96e-2904-498e-fd64-5be7a0313371"
   },
   "outputs": [
    {
     "data": {
      "text/html": [
       "<div>\n",
       "<style scoped>\n",
       "    .dataframe tbody tr th:only-of-type {\n",
       "        vertical-align: middle;\n",
       "    }\n",
       "\n",
       "    .dataframe tbody tr th {\n",
       "        vertical-align: top;\n",
       "    }\n",
       "\n",
       "    .dataframe thead th {\n",
       "        text-align: right;\n",
       "    }\n",
       "</style>\n",
       "<table border=\"1\" class=\"dataframe\">\n",
       "  <thead>\n",
       "    <tr style=\"text-align: right;\">\n",
       "      <th></th>\n",
       "      <th>0</th>\n",
       "      <th>1</th>\n",
       "      <th>2</th>\n",
       "      <th>3</th>\n",
       "      <th>4</th>\n",
       "      <th>5</th>\n",
       "      <th>6</th>\n",
       "      <th>7</th>\n",
       "      <th>8</th>\n",
       "      <th>9</th>\n",
       "      <th>impact</th>\n",
       "    </tr>\n",
       "  </thead>\n",
       "  <tbody>\n",
       "    <tr>\n",
       "      <th>0</th>\n",
       "      <td>1.215708</td>\n",
       "      <td>0.048392</td>\n",
       "      <td>-3.175242</td>\n",
       "      <td>-0.264121</td>\n",
       "      <td>4.263253</td>\n",
       "      <td>-0.276858</td>\n",
       "      <td>-0.672087</td>\n",
       "      <td>1.034378</td>\n",
       "      <td>-0.530922</td>\n",
       "      <td>0.369270</td>\n",
       "      <td>2 - Medium</td>\n",
       "    </tr>\n",
       "    <tr>\n",
       "      <th>1</th>\n",
       "      <td>1.564921</td>\n",
       "      <td>0.292552</td>\n",
       "      <td>-3.129266</td>\n",
       "      <td>-0.271465</td>\n",
       "      <td>4.210472</td>\n",
       "      <td>-0.698070</td>\n",
       "      <td>-0.528848</td>\n",
       "      <td>0.765985</td>\n",
       "      <td>-0.654345</td>\n",
       "      <td>0.841337</td>\n",
       "      <td>2 - Medium</td>\n",
       "    </tr>\n",
       "    <tr>\n",
       "      <th>2</th>\n",
       "      <td>1.659787</td>\n",
       "      <td>0.251099</td>\n",
       "      <td>-3.114965</td>\n",
       "      <td>-0.241700</td>\n",
       "      <td>4.224143</td>\n",
       "      <td>-0.833113</td>\n",
       "      <td>-0.460184</td>\n",
       "      <td>0.811982</td>\n",
       "      <td>-0.668902</td>\n",
       "      <td>0.868725</td>\n",
       "      <td>2 - Medium</td>\n",
       "    </tr>\n",
       "    <tr>\n",
       "      <th>3</th>\n",
       "      <td>0.008328</td>\n",
       "      <td>-0.294165</td>\n",
       "      <td>0.419040</td>\n",
       "      <td>-0.001579</td>\n",
       "      <td>0.517419</td>\n",
       "      <td>0.481460</td>\n",
       "      <td>-0.146617</td>\n",
       "      <td>0.739335</td>\n",
       "      <td>-0.784054</td>\n",
       "      <td>-0.071898</td>\n",
       "      <td>2 - Medium</td>\n",
       "    </tr>\n",
       "    <tr>\n",
       "      <th>4</th>\n",
       "      <td>0.055095</td>\n",
       "      <td>-0.308219</td>\n",
       "      <td>0.428912</td>\n",
       "      <td>-0.003547</td>\n",
       "      <td>0.512783</td>\n",
       "      <td>0.471317</td>\n",
       "      <td>-0.139846</td>\n",
       "      <td>0.738365</td>\n",
       "      <td>-0.790354</td>\n",
       "      <td>-0.067785</td>\n",
       "      <td>2 - Medium</td>\n",
       "    </tr>\n",
       "  </tbody>\n",
       "</table>\n",
       "</div>"
      ],
      "text/plain": [
       "          0         1         2  ...         8         9      impact\n",
       "0  1.215708  0.048392 -3.175242  ... -0.530922  0.369270  2 - Medium\n",
       "1  1.564921  0.292552 -3.129266  ... -0.654345  0.841337  2 - Medium\n",
       "2  1.659787  0.251099 -3.114965  ... -0.668902  0.868725  2 - Medium\n",
       "3  0.008328 -0.294165  0.419040  ... -0.784054 -0.071898  2 - Medium\n",
       "4  0.055095 -0.308219  0.428912  ... -0.790354 -0.067785  2 - Medium\n",
       "\n",
       "[5 rows x 11 columns]"
      ]
     },
     "execution_count": 11,
     "metadata": {
      "tags": []
     },
     "output_type": "execute_result"
    }
   ],
   "source": [
    "final_df = pd.DataFrame(pca)\n",
    "final_df['impact'] = df_copy['impact']\n",
    "final_df.head()"
   ]
  },
  {
   "cell_type": "markdown",
   "metadata": {
    "colab_type": "text",
    "id": "mdCsQ5Ecvu5c"
   },
   "source": [
    "# Train Test Split"
   ]
  },
  {
   "cell_type": "code",
   "execution_count": null,
   "metadata": {
    "colab": {},
    "colab_type": "code",
    "id": "7-Sxnc-hsjp5"
   },
   "outputs": [],
   "source": [
    "from sklearn.model_selection import train_test_split\n",
    "X = final_df.drop(columns = 'impact')\n",
    "y = impact"
   ]
  },
  {
   "cell_type": "code",
   "execution_count": null,
   "metadata": {
    "colab": {},
    "colab_type": "code",
    "id": "yNpRlteEv0-o"
   },
   "outputs": [],
   "source": [
    "X_train, X_test, y_train, y_test = train_test_split(X, y, test_size=0.3, random_state=101, stratify= y)"
   ]
  },
  {
   "cell_type": "code",
   "execution_count": null,
   "metadata": {
    "colab": {
     "base_uri": "https://localhost:8080/"
    },
    "colab_type": "code",
    "id": "DnMcoHDQx86-",
    "outputId": "e8518ab6-4814-4fa5-99f1-295796638bcd"
   },
   "outputs": [
    {
     "name": "stdout",
     "output_type": "stream",
     "text": [
      "2 - Medium    94030\n",
      "3 - Low        2720\n",
      "1 - High       2444\n",
      "Name: impact, dtype: int64\n",
      "2 - Medium    40300\n",
      "3 - Low        1166\n",
      "1 - High       1047\n",
      "Name: impact, dtype: int64\n"
     ]
    }
   ],
   "source": [
    "print(y_train.value_counts())\n",
    "print(y_test.value_counts())"
   ]
  },
  {
   "cell_type": "markdown",
   "metadata": {
    "colab_type": "text",
    "id": "YdJDqyjajZ47"
   },
   "source": [
    "# Algorithms"
   ]
  },
  {
   "cell_type": "markdown",
   "metadata": {
    "colab_type": "text",
    "id": "-qNvGM1MAebA"
   },
   "source": [
    "## 1. Decision Tree:"
   ]
  },
  {
   "cell_type": "code",
   "execution_count": null,
   "metadata": {
    "colab": {
     "base_uri": "https://localhost:8080/",
     "height": 255
    },
    "colab_type": "code",
    "id": "KcAAaUKsAT8E",
    "outputId": "e83064e8-7c01-42d0-ebbe-7551d2444427"
   },
   "outputs": [
    {
     "name": "stdout",
     "output_type": "stream",
     "text": [
      "0.9435231576223744\n",
      "[[  429   601    17]\n",
      " [  637 39248   415]\n",
      " [   14   717   435]]\n",
      "              precision    recall  f1-score   support\n",
      "\n",
      "    1 - High       0.40      0.41      0.40      1047\n",
      "  2 - Medium       0.97      0.97      0.97     40300\n",
      "     3 - Low       0.50      0.37      0.43      1166\n",
      "\n",
      "    accuracy                           0.94     42513\n",
      "   macro avg       0.62      0.59      0.60     42513\n",
      "weighted avg       0.94      0.94      0.94     42513\n",
      "\n"
     ]
    }
   ],
   "source": [
    "from sklearn.tree import DecisionTreeClassifier\n",
    "from sklearn.metrics import accuracy_score, classification_report, confusion_matrix\n",
    "dt = DecisionTreeClassifier(random_state=101)\n",
    "dt.fit(X_train, y_train)\n",
    "y_pred = dt.predict(X_test)\n",
    "print(accuracy_score(y_test, y_pred))\n",
    "print(confusion_matrix(y_test, y_pred))\n",
    "print(classification_report(y_test, y_pred))"
   ]
  },
  {
   "cell_type": "markdown",
   "metadata": {
    "colab_type": "text",
    "id": "XpxOk9xfBT0f"
   },
   "source": [
    "## 2. Random Forest:"
   ]
  },
  {
   "cell_type": "code",
   "execution_count": null,
   "metadata": {
    "colab": {
     "base_uri": "https://localhost:8080/",
     "height": 255
    },
    "colab_type": "code",
    "id": "3wrisV5ZBRdl",
    "outputId": "ab3bcdfe-f3d1-43e0-8752-290e9cfcc4d8"
   },
   "outputs": [
    {
     "name": "stdout",
     "output_type": "stream",
     "text": [
      "0.9547432550043516\n",
      "[[  341   695    11]\n",
      " [  228 39860   212]\n",
      " [    9   769   388]]\n",
      "              precision    recall  f1-score   support\n",
      "\n",
      "    1 - High       0.59      0.33      0.42      1047\n",
      "  2 - Medium       0.96      0.99      0.98     40300\n",
      "     3 - Low       0.64      0.33      0.44      1166\n",
      "\n",
      "    accuracy                           0.95     42513\n",
      "   macro avg       0.73      0.55      0.61     42513\n",
      "weighted avg       0.95      0.95      0.95     42513\n",
      "\n"
     ]
    }
   ],
   "source": [
    "from sklearn.ensemble import RandomForestClassifier\n",
    "rf = RandomForestClassifier(n_estimators= 500, random_state= 101)\n",
    "rf.fit(X_train,y_train)\n",
    "y_pred = rf.predict(X_test)\n",
    "print(accuracy_score(y_test, y_pred))\n",
    "print(confusion_matrix(y_test, y_pred))\n",
    "print(classification_report(y_test, y_pred))"
   ]
  },
  {
   "cell_type": "markdown",
   "metadata": {
    "colab_type": "text",
    "id": "Ebi628LfCryx"
   },
   "source": [
    "## 3.Support Vector Classifier"
   ]
  },
  {
   "cell_type": "code",
   "execution_count": null,
   "metadata": {
    "colab": {
     "base_uri": "https://localhost:8080/",
     "height": 255
    },
    "colab_type": "code",
    "id": "EsqUvKN2CrSR",
    "outputId": "98254936-6fb3-4113-9c23-a530061c79bd"
   },
   "outputs": [
    {
     "name": "stdout",
     "output_type": "stream",
     "text": [
      "0.9513090113612307\n",
      "[[   31  1015     1]\n",
      " [    3 40282    15]\n",
      " [    7  1029   130]]\n",
      "              precision    recall  f1-score   support\n",
      "\n",
      "    1 - High       0.76      0.03      0.06      1047\n",
      "  2 - Medium       0.95      1.00      0.98     40300\n",
      "     3 - Low       0.89      0.11      0.20      1166\n",
      "\n",
      "    accuracy                           0.95     42513\n",
      "   macro avg       0.87      0.38      0.41     42513\n",
      "weighted avg       0.95      0.95      0.93     42513\n",
      "\n"
     ]
    }
   ],
   "source": [
    "from sklearn.svm import SVC\n",
    "svc_clf = SVC()\n",
    "svc_clf.fit(X_train,y_train)\n",
    "y_pred = svc_clf.predict(X_test)\n",
    "print(accuracy_score(y_test, y_pred))\n",
    "print(confusion_matrix(y_test, y_pred))\n",
    "print(classification_report(y_test, y_pred))"
   ]
  },
  {
   "cell_type": "markdown",
   "metadata": {
    "colab_type": "text",
    "id": "h2q7ZloBMfoU"
   },
   "source": [
    "## 4. Gausian NB"
   ]
  },
  {
   "cell_type": "code",
   "execution_count": null,
   "metadata": {
    "colab": {
     "base_uri": "https://localhost:8080/",
     "height": 255
    },
    "colab_type": "code",
    "id": "hZJAWwtwDo6X",
    "outputId": "75920b70-9859-475d-b58c-651824bb6d63"
   },
   "outputs": [
    {
     "name": "stdout",
     "output_type": "stream",
     "text": [
      "0.8958906687366217\n",
      "[[   51   926    70]\n",
      " [  545 37884  1871]\n",
      " [   24   990   152]]\n",
      "              precision    recall  f1-score   support\n",
      "\n",
      "    1 - High       0.08      0.05      0.06      1047\n",
      "  2 - Medium       0.95      0.94      0.95     40300\n",
      "     3 - Low       0.07      0.13      0.09      1166\n",
      "\n",
      "    accuracy                           0.90     42513\n",
      "   macro avg       0.37      0.37      0.37     42513\n",
      "weighted avg       0.91      0.90      0.90     42513\n",
      "\n"
     ]
    }
   ],
   "source": [
    "from sklearn.naive_bayes import GaussianNB\n",
    "nb = GaussianNB()\n",
    "nb.fit(X_train,y_train)\n",
    "y_pred = nb.predict(X_test)\n",
    "print(accuracy_score(y_test, y_pred))\n",
    "print(confusion_matrix(y_test, y_pred))\n",
    "print(classification_report(y_test, y_pred))"
   ]
  },
  {
   "cell_type": "markdown",
   "metadata": {
    "colab_type": "text",
    "id": "KUbXUVe9NFgp"
   },
   "source": [
    "## 5. KNN"
   ]
  },
  {
   "cell_type": "code",
   "execution_count": null,
   "metadata": {
    "colab": {
     "base_uri": "https://localhost:8080/",
     "height": 255
    },
    "colab_type": "code",
    "id": "Qi9YwuExNJXo",
    "outputId": "7f0405e7-3e3c-4546-cf11-b1babeb55143"
   },
   "outputs": [
    {
     "name": "stdout",
     "output_type": "stream",
     "text": [
      "0.9520617222967093\n",
      "[[  447   584    16]\n",
      " [  341 39515   444]\n",
      " [   20   633   513]]\n",
      "              precision    recall  f1-score   support\n",
      "\n",
      "    1 - High       0.55      0.43      0.48      1047\n",
      "  2 - Medium       0.97      0.98      0.98     40300\n",
      "     3 - Low       0.53      0.44      0.48      1166\n",
      "\n",
      "    accuracy                           0.95     42513\n",
      "   macro avg       0.68      0.62      0.65     42513\n",
      "weighted avg       0.95      0.95      0.95     42513\n",
      "\n"
     ]
    }
   ],
   "source": [
    "from sklearn.neighbors  import KNeighborsClassifier\n",
    "knn = KNeighborsClassifier(n_neighbors=3)\n",
    "knn.fit(X_train,y_train)\n",
    "y_pred = knn.predict(X_test)\n",
    "print(accuracy_score(y_test, y_pred))\n",
    "print(confusion_matrix(y_test, y_pred))\n",
    "print(classification_report(y_test, y_pred))"
   ]
  },
  {
   "cell_type": "markdown",
   "metadata": {
    "colab_type": "text",
    "id": "ZfaRpBrfScqA"
   },
   "source": [
    "# Meta Algorithms"
   ]
  },
  {
   "cell_type": "markdown",
   "metadata": {
    "colab_type": "text",
    "id": "Q8GlBlZ3Sm57"
   },
   "source": [
    "## 1. Voting Classifier"
   ]
  },
  {
   "cell_type": "code",
   "execution_count": null,
   "metadata": {
    "colab": {
     "base_uri": "https://localhost:8080/",
     "height": 85
    },
    "colab_type": "code",
    "id": "9i8akpDdSg2t",
    "outputId": "52b87234-a12a-4cbb-ead8-302cd34dae75"
   },
   "outputs": [
    {
     "name": "stdout",
     "output_type": "stream",
     "text": [
      "GaussianNB : 0.896\n",
      "K Nearest Neighbours : 0.954\n",
      "Classification Tree : 0.944\n",
      "Voting Classifier: 0.954\n"
     ]
    }
   ],
   "source": [
    "from sklearn.ensemble import VotingClassifier\n",
    "nb = GaussianNB()\n",
    "knn = KNeighborsClassifier()\n",
    "dt = DecisionTreeClassifier(random_state=101)\n",
    "# Define a list called classifier that contains the tuples (classifier_name, classifier)\n",
    "classifiers = [('GaussianNB', nb),\n",
    "('K Nearest Neighbours', knn),\n",
    "('Classification Tree', dt)]\n",
    "# Iterate over the defined list of tuples containing the classifiers\n",
    "for clf_name, clf in classifiers:\n",
    "  clf.fit(X_train, y_train)\n",
    "  y_pred = clf.predict(X_test)\n",
    "  print('{:s} : {:.3f}'.format(clf_name, accuracy_score(y_test, y_pred)))\n",
    "\n",
    "vc = VotingClassifier(estimators=classifiers)\n",
    "vc.fit(X_train, y_train)\n",
    "y_pred = vc.predict(X_test)\n",
    "print('Voting Classifier: {:.3f}'.format(accuracy_score(y_test, y_pred)))"
   ]
  },
  {
   "cell_type": "markdown",
   "metadata": {
    "colab_type": "text",
    "id": "OG--RXd4VBRf"
   },
   "source": [
    "## 2. Bagging Classifier"
   ]
  },
  {
   "cell_type": "code",
   "execution_count": null,
   "metadata": {
    "colab": {
     "base_uri": "https://localhost:8080/",
     "height": 34
    },
    "colab_type": "code",
    "id": "O-XtQuAcSlBS",
    "outputId": "f2274415-ae44-4440-f0dd-96564aec254b"
   },
   "outputs": [
    {
     "name": "stdout",
     "output_type": "stream",
     "text": [
      "Accuracy of Bagging Classifier: 0.954\n"
     ]
    }
   ],
   "source": [
    "from sklearn.ensemble import BaggingClassifier\n",
    "dt = DecisionTreeClassifier(random_state=101)\n",
    "bc = BaggingClassifier(base_estimator=dt, n_estimators=300, n_jobs=-1)\n",
    "bc.fit(X_train, y_train)\n",
    "y_pred = bc.predict(X_test)\n",
    "accuracy = accuracy_score(y_test, y_pred)\n",
    "print('Accuracy of Bagging Classifier: {:.3f}'.format(accuracy))"
   ]
  },
  {
   "cell_type": "markdown",
   "metadata": {
    "colab_type": "text",
    "id": "pbHL1ia1W4Cb"
   },
   "source": [
    "## 3. AdaBoost Classifier"
   ]
  },
  {
   "cell_type": "code",
   "execution_count": null,
   "metadata": {
    "colab": {
     "base_uri": "https://localhost:8080/",
     "height": 34
    },
    "colab_type": "code",
    "id": "_FaYLTFyW8we",
    "outputId": "3bc99701-c43f-41d6-e121-5c411f853c4c"
   },
   "outputs": [
    {
     "name": "stdout",
     "output_type": "stream",
     "text": [
      "Accuracy of Bagging Classifier: 0.954\n"
     ]
    }
   ],
   "source": [
    "from sklearn.ensemble import AdaBoostClassifier\n",
    "dt = DecisionTreeClassifier(random_state=101)\n",
    "abc = AdaBoostClassifier(base_estimator=dt, n_estimators=300)\n",
    "abc.fit(X_train, y_train)\n",
    "y_pred = bc.predict(X_test)\n",
    "accuracy = accuracy_score(y_test, y_pred)\n",
    "print('Accuracy of Bagging Classifier: {:.3f}'.format(accuracy))"
   ]
  },
  {
   "cell_type": "markdown",
   "metadata": {
    "colab_type": "text",
    "id": "r6-MJDdZbR11"
   },
   "source": [
    "## 4. XGBoost Classifier"
   ]
  },
  {
   "cell_type": "code",
   "execution_count": null,
   "metadata": {
    "colab": {
     "base_uri": "https://localhost:8080/",
     "height": 34
    },
    "colab_type": "code",
    "id": "vO_SWG_jbWmI",
    "outputId": "7a30942c-e313-4a0d-9a40-fb1ad7e2347c"
   },
   "outputs": [
    {
     "name": "stdout",
     "output_type": "stream",
     "text": [
      "Accuracy of Bagging Classifier: 0.951\n"
     ]
    }
   ],
   "source": [
    "from xgboost import XGBClassifier\n",
    "xgb = XGBClassifier()\n",
    "xgb.fit(X_train, y_train)\n",
    "y_pred = xgb.predict(X_test)\n",
    "accuracy = accuracy_score(y_test, y_pred)\n",
    "print('Accuracy of Bagging Classifier: {:.3f}'.format(accuracy))"
   ]
  },
  {
   "cell_type": "markdown",
   "metadata": {
    "colab_type": "text",
    "id": "EsCz7I7X9iLU"
   },
   "source": [
    "# Cross Validation And Hyper Parameter Tuning"
   ]
  },
  {
   "cell_type": "markdown",
   "metadata": {
    "colab_type": "text",
    "id": "E8WuqcO592TE"
   },
   "source": [
    "## 1. Using Randomized Search cv"
   ]
  },
  {
   "cell_type": "code",
   "execution_count": null,
   "metadata": {
    "colab": {
     "base_uri": "https://localhost:8080/",
     "height": 119
    },
    "colab_type": "code",
    "id": "uGe4EYjo9rTR",
    "outputId": "56a6d760-df02-46fa-f349-ef8500918324"
   },
   "outputs": [
    {
     "name": "stdout",
     "output_type": "stream",
     "text": [
      "Fitting 4 folds for each of 25 candidates, totalling 100 fits\n"
     ]
    },
    {
     "name": "stderr",
     "output_type": "stream",
     "text": [
      "[Parallel(n_jobs=-1)]: Using backend LokyBackend with 2 concurrent workers.\n",
      "[Parallel(n_jobs=-1)]: Done  46 tasks      | elapsed: 41.1min\n",
      "[Parallel(n_jobs=-1)]: Done 100 out of 100 | elapsed: 93.2min finished\n"
     ]
    },
    {
     "name": "stdout",
     "output_type": "stream",
     "text": [
      "Best parameters found:  {'n_estimators': 100, 'max_depth': 7, 'learning_rate': 0.05}\n",
      "Best Score found:  0.9762694306927301\n"
     ]
    }
   ],
   "source": [
    "import xgboost as xgb\n",
    "from sklearn.model_selection import RandomizedSearchCV\n",
    "gbm_param_grid = {'learning_rate': np.arange(0.05,1.05,.05),'n_estimators': [100, 200, 300],'max_depth': range(1,10)}\n",
    "gbm = xgb.XGBClassifier()\n",
    "randomized_cv = RandomizedSearchCV(estimator=gbm, param_distributions=gbm_param_grid, n_iter=25,random_state=101, cv=4, verbose=1, n_jobs=-1)\n",
    "randomized_cv.fit(X_train, y_train)\n",
    "print(\"Best parameters found: \",randomized_cv.best_params_)\n",
    "print(\"Best Score found: \", np.sqrt(np.abs(randomized_cv.best_score_)))"
   ]
  },
  {
   "cell_type": "markdown",
   "metadata": {
    "colab_type": "text",
    "id": "y2jL5NmiOYF7"
   },
   "source": [
    "## Using GridSearch CV"
   ]
  },
  {
   "cell_type": "code",
   "execution_count": null,
   "metadata": {
    "colab": {
     "base_uri": "https://localhost:8080/",
     "height": 102
    },
    "colab_type": "code",
    "id": "1h6lRl1OObuv",
    "outputId": "78f0e185-b01b-4ad7-b35a-a36358cc27d0"
   },
   "outputs": [
    {
     "name": "stdout",
     "output_type": "stream",
     "text": [
      "Fitting 4 folds for each of 9 candidates, totalling 36 fits\n"
     ]
    },
    {
     "name": "stderr",
     "output_type": "stream",
     "text": [
      "[Parallel(n_jobs=-1)]: Using backend LokyBackend with 2 concurrent workers.\n",
      "[Parallel(n_jobs=-1)]: Done  36 out of  36 | elapsed: 21.8min finished\n"
     ]
    },
    {
     "name": "stdout",
     "output_type": "stream",
     "text": [
      "Best parameters found:  {'learning_rate': 0.05, 'max_depth': 8, 'n_estimators': 150}\n",
      "Best Score found:  0.976584332698137\n"
     ]
    }
   ],
   "source": [
    "import xgboost as xgb\n",
    "from sklearn.model_selection import GridSearchCV\n",
    "gbm_param_grid = {'learning_rate': [0.05],'n_estimators': [50, 100, 150],'max_depth': [6, 7, 8]}\n",
    "gbm = xgb.XGBClassifier()\n",
    "grid_cv = GridSearchCV(estimator=gbm, param_grid=gbm_param_grid, cv=4, verbose=1, n_jobs=-1)\n",
    "grid_cv.fit(X_train, y_train)\n",
    "print(\"Best parameters found: \",grid_cv.best_params_)\n",
    "print(\"Best Score found: \", np.sqrt(np.abs(grid_cv.best_score_)))"
   ]
  }
 ],
 "metadata": {
  "colab": {
   "collapsed_sections": [
    "mdCsQ5Ecvu5c"
   ],
   "name": "PCA Technique",
   "provenance": []
  },
  "kernelspec": {
   "display_name": "Python 3",
   "language": "python",
   "name": "python3"
  },
  "language_info": {
   "codemirror_mode": {
    "name": "ipython",
    "version": 3
   },
   "file_extension": ".py",
   "mimetype": "text/x-python",
   "name": "python",
   "nbconvert_exporter": "python",
   "pygments_lexer": "ipython3",
   "version": "3.7.4"
  }
 },
 "nbformat": 4,
 "nbformat_minor": 1
}
