{
 "cells": [
  {
   "cell_type": "code",
   "execution_count": null,
   "metadata": {
    "colab": {
     "base_uri": "https://localhost:8080/",
     "height": 122
    },
    "colab_type": "code",
    "id": "eBNwFl5hO8FL",
    "outputId": "380a19f7-897f-4458-92f0-acd658321edf"
   },
   "outputs": [
    {
     "name": "stdout",
     "output_type": "stream",
     "text": [
      "Go to this URL in a browser: https://accounts.google.com/o/oauth2/auth?client_id=947318989803-6bn6qk8qdgf4n4g3pfee6491hc0brc4i.apps.googleusercontent.com&redirect_uri=urn%3aietf%3awg%3aoauth%3a2.0%3aoob&scope=email%20https%3a%2f%2fwww.googleapis.com%2fauth%2fdocs.test%20https%3a%2f%2fwww.googleapis.com%2fauth%2fdrive%20https%3a%2f%2fwww.googleapis.com%2fauth%2fdrive.photos.readonly%20https%3a%2f%2fwww.googleapis.com%2fauth%2fpeopleapi.readonly&response_type=code\n",
      "\n",
      "Enter your authorization code:\n",
      "4/3wF3jFzwEFKvPF2_4a4NFK4r91twuVTSBkla6d-lfmwxihlUVkWoNjI\n",
      "Mounted at /content/gdrive\n"
     ]
    }
   ],
   "source": [
    "from google.colab import drive\n",
    "drive.mount('/content/gdrive')"
   ]
  },
  {
   "cell_type": "code",
   "execution_count": null,
   "metadata": {
    "colab": {
     "base_uri": "https://localhost:8080/",
     "height": 34
    },
    "colab_type": "code",
    "id": "AM3nf32QZGx3",
    "outputId": "0d450dbc-b1b8-4e8d-f6d3-20f057bf49e3"
   },
   "outputs": [
    {
     "data": {
      "text/plain": [
       "(141712, 25)"
      ]
     },
     "execution_count": 4,
     "metadata": {
      "tags": []
     },
     "output_type": "execute_result"
    }
   ],
   "source": [
    "import pandas as pd\n",
    "df = pd.read_excel('/content/gdrive/My Drive/Colab Notebooks/Datasets/Incidents_service.xlsx')\n",
    "df.shape"
   ]
  },
  {
   "cell_type": "code",
   "execution_count": null,
   "metadata": {
    "colab": {},
    "colab_type": "code",
    "id": "Xqwxn4aVZNUj"
   },
   "outputs": [],
   "source": [
    "import numpy as np\n",
    "import warnings\n",
    "warnings.filterwarnings(\"ignore\")"
   ]
  },
  {
   "cell_type": "markdown",
   "metadata": {
    "colab_type": "text",
    "id": "wpnbprkuaxtQ"
   },
   "source": [
    "Data Cleaning Phase"
   ]
  },
  {
   "cell_type": "code",
   "execution_count": null,
   "metadata": {
    "colab": {
     "base_uri": "https://localhost:8080/",
     "height": 136
    },
    "colab_type": "code",
    "id": "BAVocDtdZOZF",
    "outputId": "7ef04fa0-9923-4534-9cd7-e45c1f1dd359"
   },
   "outputs": [
    {
     "data": {
      "text/plain": [
       "Index(['ID', 'ID_status', 'active', 'count_reassign', 'count_opening',\n",
       "       'count_updated', 'ID_caller', 'opened_by', 'opened_time', 'Created_by',\n",
       "       'created_at', 'updated_by', 'updated_at', 'type_contact', 'location',\n",
       "       'category_ID', 'user_symptom', 'impact', 'Support_group',\n",
       "       'support_incharge', 'Doc_knowledge', 'confirmation_check', 'notify',\n",
       "       'problem_id', 'change request'],\n",
       "      dtype='object')"
      ]
     },
     "execution_count": 7,
     "metadata": {
      "tags": []
     },
     "output_type": "execute_result"
    }
   ],
   "source": [
    "df.columns"
   ]
  },
  {
   "cell_type": "code",
   "execution_count": null,
   "metadata": {
    "colab": {},
    "colab_type": "code",
    "id": "RS6lZDp1ZOQd"
   },
   "outputs": [],
   "source": [
    "df_new = df[['ID_status', 'active', 'count_reassign', 'count_opening',\n",
    "       'count_updated',  'opened_by', 'opened_time', 'Created_by',\n",
    "       'created_at', 'updated_by', 'updated_at', 'type_contact', 'location',\n",
    "       'category_ID', 'user_symptom', 'impact', 'Support_group',\n",
    "       'support_incharge', 'Doc_knowledge', 'confirmation_check', 'notify']]"
   ]
  },
  {
   "cell_type": "code",
   "execution_count": null,
   "metadata": {
    "colab": {
     "base_uri": "https://localhost:8080/",
     "height": 187
    },
    "colab_type": "code",
    "id": "aleaNS2GZOHd",
    "outputId": "20e6f9c6-2f3c-456c-eb63-71b20c9a1591"
   },
   "outputs": [
    {
     "data": {
      "text/plain": [
       "Active                38716\n",
       "New                   36407\n",
       "Resolved              25751\n",
       "Closed                24985\n",
       "Awaiting User Info    14642\n",
       "Awaiting Vendor         707\n",
       "Awaiting Problem        461\n",
       "Awaiting Evidence        38\n",
       "-100                      5\n",
       "Name: ID_status, dtype: int64"
      ]
     },
     "execution_count": 9,
     "metadata": {
      "tags": []
     },
     "output_type": "execute_result"
    }
   ],
   "source": [
    "df_new.ID_status.value_counts()"
   ]
  },
  {
   "cell_type": "code",
   "execution_count": null,
   "metadata": {
    "colab": {
     "base_uri": "https://localhost:8080/",
     "height": 170
    },
    "colab_type": "code",
    "id": "XD0Tts6fZN2L",
    "outputId": "b4c22f30-2b95-439e-f11d-4664b66b1e9c"
   },
   "outputs": [
    {
     "data": {
      "text/plain": [
       "Active                38716\n",
       "New                   36407\n",
       "Resolved              25751\n",
       "Closed                24985\n",
       "Awaiting User Info    14642\n",
       "Awaiting Vendor         707\n",
       "Awaiting Problem        461\n",
       "Awaiting Evidence        38\n",
       "Name: ID_status, dtype: int64"
      ]
     },
     "execution_count": 10,
     "metadata": {
      "tags": []
     },
     "output_type": "execute_result"
    }
   ],
   "source": [
    "df_new = df_new[df_new.ID_status != -100]\n",
    "df_new.ID_status.value_counts()"
   ]
  },
  {
   "cell_type": "code",
   "execution_count": null,
   "metadata": {
    "colab": {
     "base_uri": "https://localhost:8080/",
     "height": 309
    },
    "colab_type": "code",
    "id": "PwyHY9F0cux0",
    "outputId": "dbff6979-4cbe-490b-a75d-d0e0bd865ec4"
   },
   "outputs": [
    {
     "data": {
      "text/html": [
       "<div>\n",
       "<style scoped>\n",
       "    .dataframe tbody tr th:only-of-type {\n",
       "        vertical-align: middle;\n",
       "    }\n",
       "\n",
       "    .dataframe tbody tr th {\n",
       "        vertical-align: top;\n",
       "    }\n",
       "\n",
       "    .dataframe thead th {\n",
       "        text-align: right;\n",
       "    }\n",
       "</style>\n",
       "<table border=\"1\" class=\"dataframe\">\n",
       "  <thead>\n",
       "    <tr style=\"text-align: right;\">\n",
       "      <th></th>\n",
       "      <th>ID_status</th>\n",
       "      <th>active</th>\n",
       "      <th>count_reassign</th>\n",
       "      <th>count_opening</th>\n",
       "      <th>count_updated</th>\n",
       "      <th>opened_by</th>\n",
       "      <th>opened_time</th>\n",
       "      <th>Created_by</th>\n",
       "      <th>created_at</th>\n",
       "      <th>updated_by</th>\n",
       "      <th>updated_at</th>\n",
       "      <th>type_contact</th>\n",
       "      <th>location</th>\n",
       "      <th>category_ID</th>\n",
       "      <th>user_symptom</th>\n",
       "      <th>impact</th>\n",
       "      <th>Support_group</th>\n",
       "      <th>support_incharge</th>\n",
       "      <th>Doc_knowledge</th>\n",
       "      <th>confirmation_check</th>\n",
       "      <th>notify</th>\n",
       "    </tr>\n",
       "  </thead>\n",
       "  <tbody>\n",
       "    <tr>\n",
       "      <th>0</th>\n",
       "      <td>New</td>\n",
       "      <td>True</td>\n",
       "      <td>0</td>\n",
       "      <td>0</td>\n",
       "      <td>0</td>\n",
       "      <td>Opened by  8</td>\n",
       "      <td>2016-02-29 01:16:00</td>\n",
       "      <td>Created by 6</td>\n",
       "      <td>2016-02-29 01:23:00</td>\n",
       "      <td>Updated by 21</td>\n",
       "      <td>2016-02-29 01:23:00</td>\n",
       "      <td>Phone</td>\n",
       "      <td>Location 143</td>\n",
       "      <td>Category 55</td>\n",
       "      <td>Symptom 72</td>\n",
       "      <td>2 - Medium</td>\n",
       "      <td>Group 56</td>\n",
       "      <td>Resolver 17</td>\n",
       "      <td>True</td>\n",
       "      <td>False</td>\n",
       "      <td>Do Not Notify</td>\n",
       "    </tr>\n",
       "    <tr>\n",
       "      <th>1</th>\n",
       "      <td>Resolved</td>\n",
       "      <td>True</td>\n",
       "      <td>0</td>\n",
       "      <td>0</td>\n",
       "      <td>3</td>\n",
       "      <td>Opened by  8</td>\n",
       "      <td>2016-02-29 01:16:00</td>\n",
       "      <td>Created by 6</td>\n",
       "      <td>2016-02-29 01:23:00</td>\n",
       "      <td>Updated by 804</td>\n",
       "      <td>2016-02-29 11:29:00</td>\n",
       "      <td>Phone</td>\n",
       "      <td>Location 143</td>\n",
       "      <td>Category 55</td>\n",
       "      <td>Symptom 72</td>\n",
       "      <td>2 - Medium</td>\n",
       "      <td>Group 56</td>\n",
       "      <td>Resolver 17</td>\n",
       "      <td>True</td>\n",
       "      <td>False</td>\n",
       "      <td>Do Not Notify</td>\n",
       "    </tr>\n",
       "    <tr>\n",
       "      <th>2</th>\n",
       "      <td>Closed</td>\n",
       "      <td>False</td>\n",
       "      <td>0</td>\n",
       "      <td>0</td>\n",
       "      <td>4</td>\n",
       "      <td>Opened by  8</td>\n",
       "      <td>2016-02-29 01:16:00</td>\n",
       "      <td>Created by 6</td>\n",
       "      <td>2016-02-29 01:23:00</td>\n",
       "      <td>Updated by 908</td>\n",
       "      <td>2016-03-05 12:00:00</td>\n",
       "      <td>Phone</td>\n",
       "      <td>Location 143</td>\n",
       "      <td>Category 55</td>\n",
       "      <td>Symptom 72</td>\n",
       "      <td>2 - Medium</td>\n",
       "      <td>Group 56</td>\n",
       "      <td>Resolver 17</td>\n",
       "      <td>True</td>\n",
       "      <td>False</td>\n",
       "      <td>Do Not Notify</td>\n",
       "    </tr>\n",
       "    <tr>\n",
       "      <th>3</th>\n",
       "      <td>Active</td>\n",
       "      <td>True</td>\n",
       "      <td>1</td>\n",
       "      <td>0</td>\n",
       "      <td>1</td>\n",
       "      <td>Opened by  397</td>\n",
       "      <td>2016-02-29 04:40:00</td>\n",
       "      <td>Created by 171</td>\n",
       "      <td>2016-02-29 04:57:00</td>\n",
       "      <td>Updated by 21</td>\n",
       "      <td>2016-02-29 05:30:00</td>\n",
       "      <td>Phone</td>\n",
       "      <td>Location 165</td>\n",
       "      <td>Category 40</td>\n",
       "      <td>Symptom 471</td>\n",
       "      <td>2 - Medium</td>\n",
       "      <td>Group 24</td>\n",
       "      <td>Resolver 31</td>\n",
       "      <td>True</td>\n",
       "      <td>False</td>\n",
       "      <td>Do Not Notify</td>\n",
       "    </tr>\n",
       "    <tr>\n",
       "      <th>4</th>\n",
       "      <td>Active</td>\n",
       "      <td>True</td>\n",
       "      <td>1</td>\n",
       "      <td>0</td>\n",
       "      <td>2</td>\n",
       "      <td>Opened by  397</td>\n",
       "      <td>2016-02-29 04:40:00</td>\n",
       "      <td>Created by 171</td>\n",
       "      <td>2016-02-29 04:57:00</td>\n",
       "      <td>Updated by 21</td>\n",
       "      <td>2016-02-29 05:33:00</td>\n",
       "      <td>Phone</td>\n",
       "      <td>Location 165</td>\n",
       "      <td>Category 40</td>\n",
       "      <td>Symptom 471</td>\n",
       "      <td>2 - Medium</td>\n",
       "      <td>Group 24</td>\n",
       "      <td>Resolver 31</td>\n",
       "      <td>True</td>\n",
       "      <td>False</td>\n",
       "      <td>Do Not Notify</td>\n",
       "    </tr>\n",
       "  </tbody>\n",
       "</table>\n",
       "</div>"
      ],
      "text/plain": [
       "  ID_status  active  ...  confirmation_check         notify\n",
       "0       New    True  ...               False  Do Not Notify\n",
       "1  Resolved    True  ...               False  Do Not Notify\n",
       "2    Closed   False  ...               False  Do Not Notify\n",
       "3    Active    True  ...               False  Do Not Notify\n",
       "4    Active    True  ...               False  Do Not Notify\n",
       "\n",
       "[5 rows x 21 columns]"
      ]
     },
     "execution_count": 11,
     "metadata": {
      "tags": []
     },
     "output_type": "execute_result"
    }
   ],
   "source": [
    "df_new.head()"
   ]
  },
  {
   "cell_type": "code",
   "execution_count": null,
   "metadata": {
    "colab": {
     "base_uri": "https://localhost:8080/",
     "height": 34
    },
    "colab_type": "code",
    "id": "uNA6HgOgcvVH",
    "outputId": "9db6b526-1250-4d1c-f8f7-1a35a89b3aba"
   },
   "outputs": [
    {
     "data": {
      "text/plain": [
       "(141707, 21)"
      ]
     },
     "execution_count": 12,
     "metadata": {
      "tags": []
     },
     "output_type": "execute_result"
    }
   ],
   "source": [
    "df_new.shape"
   ]
  },
  {
   "cell_type": "markdown",
   "metadata": {
    "colab_type": "text",
    "id": "n4Dk2GKU3nbF"
   },
   "source": [
    "we will make a copy of our dataset, to perform operations on it."
   ]
  },
  {
   "cell_type": "code",
   "execution_count": null,
   "metadata": {
    "colab": {},
    "colab_type": "code",
    "id": "NNAwvT5vcvMM"
   },
   "outputs": [],
   "source": [
    "df_copy = df_new"
   ]
  },
  {
   "cell_type": "code",
   "execution_count": null,
   "metadata": {
    "colab": {
     "base_uri": "https://localhost:8080/",
     "height": 119
    },
    "colab_type": "code",
    "id": "6qS5yRggcub1",
    "outputId": "d8a72496-6518-41f9-b9c6-72cf0a297f51"
   },
   "outputs": [
    {
     "data": {
      "text/plain": [
       "Index(['ID_status', 'active', 'count_reassign', 'count_opening',\n",
       "       'count_updated', 'opened_by', 'opened_time', 'Created_by', 'created_at',\n",
       "       'updated_by', 'updated_at', 'type_contact', 'location', 'category_ID',\n",
       "       'user_symptom', 'impact', 'Support_group', 'support_incharge',\n",
       "       'Doc_knowledge', 'confirmation_check', 'notify'],\n",
       "      dtype='object')"
      ]
     },
     "execution_count": 14,
     "metadata": {
      "tags": []
     },
     "output_type": "execute_result"
    }
   ],
   "source": [
    "df_copy.columns"
   ]
  },
  {
   "cell_type": "code",
   "execution_count": null,
   "metadata": {
    "colab": {},
    "colab_type": "code",
    "id": "2Z5fn06e4Ekn"
   },
   "outputs": [],
   "source": [
    "categorical_features = df_copy[['ID_status', 'active',  'opened_by',  'Created_by',\n",
    "                               'updated_by',  'type_contact', 'location', 'category_ID',\n",
    "                               'user_symptom', 'Support_group', 'support_incharge',\n",
    "                               'Doc_knowledge', 'confirmation_check', 'notify']]"
   ]
  },
  {
   "cell_type": "code",
   "execution_count": null,
   "metadata": {
    "colab": {
     "base_uri": "https://localhost:8080/",
     "height": 34
    },
    "colab_type": "code",
    "id": "CNqgl_u34rgo",
    "outputId": "b1162773-712b-4386-88d8-684ad74f8359"
   },
   "outputs": [
    {
     "data": {
      "text/plain": [
       "(141707, 2370)"
      ]
     },
     "execution_count": 16,
     "metadata": {
      "tags": []
     },
     "output_type": "execute_result"
    }
   ],
   "source": [
    "for x in categorical_features.columns:\n",
    "  dummies = pd.get_dummies( df_copy[x], prefix=x, dummy_na=False, drop_first= True)\n",
    "  df_copy = df_copy.drop(x, 1)\n",
    "  df_copy = pd.concat([df_copy, dummies], axis=1)\n",
    "\n",
    "df_copy.shape"
   ]
  },
  {
   "cell_type": "code",
   "execution_count": null,
   "metadata": {
    "colab": {
     "base_uri": "https://localhost:8080/",
     "height": 85
    },
    "colab_type": "code",
    "id": "3iFWfVmaF5zY",
    "outputId": "8a51eb20-c7b1-4305-f418-0f28efc26811"
   },
   "outputs": [
    {
     "data": {
      "text/plain": [
       "2 - Medium    134330\n",
       "3 - Low         3886\n",
       "1 - High        3491\n",
       "Name: impact, dtype: int64"
      ]
     },
     "execution_count": 17,
     "metadata": {
      "tags": []
     },
     "output_type": "execute_result"
    }
   ],
   "source": [
    "df_copy.impact.value_counts()"
   ]
  },
  {
   "cell_type": "code",
   "execution_count": null,
   "metadata": {
    "colab": {
     "base_uri": "https://localhost:8080/",
     "height": 355
    },
    "colab_type": "code",
    "id": "OMc8SQVr5kfz",
    "outputId": "72997d5c-97f4-4a20-ebd7-173c23ad8b7e"
   },
   "outputs": [
    {
     "data": {
      "text/html": [
       "<div>\n",
       "<style scoped>\n",
       "    .dataframe tbody tr th:only-of-type {\n",
       "        vertical-align: middle;\n",
       "    }\n",
       "\n",
       "    .dataframe tbody tr th {\n",
       "        vertical-align: top;\n",
       "    }\n",
       "\n",
       "    .dataframe thead th {\n",
       "        text-align: right;\n",
       "    }\n",
       "</style>\n",
       "<table border=\"1\" class=\"dataframe\">\n",
       "  <thead>\n",
       "    <tr style=\"text-align: right;\">\n",
       "      <th></th>\n",
       "      <th>count_reassign</th>\n",
       "      <th>count_opening</th>\n",
       "      <th>count_updated</th>\n",
       "      <th>opened_time</th>\n",
       "      <th>created_at</th>\n",
       "      <th>updated_at</th>\n",
       "      <th>impact</th>\n",
       "      <th>ID_status_Awaiting Evidence</th>\n",
       "      <th>ID_status_Awaiting Problem</th>\n",
       "      <th>ID_status_Awaiting User Info</th>\n",
       "      <th>ID_status_Awaiting Vendor</th>\n",
       "      <th>ID_status_Closed</th>\n",
       "      <th>ID_status_New</th>\n",
       "      <th>ID_status_Resolved</th>\n",
       "      <th>active_True</th>\n",
       "      <th>opened_by_Opened by  101</th>\n",
       "      <th>opened_by_Opened by  104</th>\n",
       "      <th>opened_by_Opened by  106</th>\n",
       "      <th>opened_by_Opened by  108</th>\n",
       "      <th>opened_by_Opened by  109</th>\n",
       "      <th>opened_by_Opened by  111</th>\n",
       "      <th>opened_by_Opened by  118</th>\n",
       "      <th>opened_by_Opened by  119</th>\n",
       "      <th>opened_by_Opened by  12</th>\n",
       "      <th>opened_by_Opened by  120</th>\n",
       "      <th>opened_by_Opened by  122</th>\n",
       "      <th>opened_by_Opened by  124</th>\n",
       "      <th>opened_by_Opened by  128</th>\n",
       "      <th>opened_by_Opened by  131</th>\n",
       "      <th>opened_by_Opened by  14</th>\n",
       "      <th>opened_by_Opened by  141</th>\n",
       "      <th>opened_by_Opened by  142</th>\n",
       "      <th>opened_by_Opened by  144</th>\n",
       "      <th>opened_by_Opened by  147</th>\n",
       "      <th>opened_by_Opened by  148</th>\n",
       "      <th>opened_by_Opened by  150</th>\n",
       "      <th>opened_by_Opened by  151</th>\n",
       "      <th>opened_by_Opened by  155</th>\n",
       "      <th>opened_by_Opened by  157</th>\n",
       "      <th>opened_by_Opened by  159</th>\n",
       "      <th>...</th>\n",
       "      <th>support_incharge_Resolver 6</th>\n",
       "      <th>support_incharge_Resolver 62</th>\n",
       "      <th>support_incharge_Resolver 63</th>\n",
       "      <th>support_incharge_Resolver 64</th>\n",
       "      <th>support_incharge_Resolver 65</th>\n",
       "      <th>support_incharge_Resolver 66</th>\n",
       "      <th>support_incharge_Resolver 67</th>\n",
       "      <th>support_incharge_Resolver 68</th>\n",
       "      <th>support_incharge_Resolver 69</th>\n",
       "      <th>support_incharge_Resolver 7</th>\n",
       "      <th>support_incharge_Resolver 71</th>\n",
       "      <th>support_incharge_Resolver 73</th>\n",
       "      <th>support_incharge_Resolver 74</th>\n",
       "      <th>support_incharge_Resolver 75</th>\n",
       "      <th>support_incharge_Resolver 76</th>\n",
       "      <th>support_incharge_Resolver 77</th>\n",
       "      <th>support_incharge_Resolver 78</th>\n",
       "      <th>support_incharge_Resolver 8</th>\n",
       "      <th>support_incharge_Resolver 81</th>\n",
       "      <th>support_incharge_Resolver 82</th>\n",
       "      <th>support_incharge_Resolver 83</th>\n",
       "      <th>support_incharge_Resolver 84</th>\n",
       "      <th>support_incharge_Resolver 85</th>\n",
       "      <th>support_incharge_Resolver 86</th>\n",
       "      <th>support_incharge_Resolver 87</th>\n",
       "      <th>support_incharge_Resolver 88</th>\n",
       "      <th>support_incharge_Resolver 89</th>\n",
       "      <th>support_incharge_Resolver 9</th>\n",
       "      <th>support_incharge_Resolver 90</th>\n",
       "      <th>support_incharge_Resolver 91</th>\n",
       "      <th>support_incharge_Resolver 92</th>\n",
       "      <th>support_incharge_Resolver 93</th>\n",
       "      <th>support_incharge_Resolver 94</th>\n",
       "      <th>support_incharge_Resolver 96</th>\n",
       "      <th>support_incharge_Resolver 97</th>\n",
       "      <th>support_incharge_Resolver 98</th>\n",
       "      <th>support_incharge_Resolver 99</th>\n",
       "      <th>Doc_knowledge_True</th>\n",
       "      <th>confirmation_check_True</th>\n",
       "      <th>notify_Send Email</th>\n",
       "    </tr>\n",
       "  </thead>\n",
       "  <tbody>\n",
       "    <tr>\n",
       "      <th>0</th>\n",
       "      <td>0</td>\n",
       "      <td>0</td>\n",
       "      <td>0</td>\n",
       "      <td>2016-02-29 01:16:00</td>\n",
       "      <td>2016-02-29 01:23:00</td>\n",
       "      <td>2016-02-29 01:23:00</td>\n",
       "      <td>2</td>\n",
       "      <td>0</td>\n",
       "      <td>0</td>\n",
       "      <td>0</td>\n",
       "      <td>0</td>\n",
       "      <td>0</td>\n",
       "      <td>1</td>\n",
       "      <td>0</td>\n",
       "      <td>1</td>\n",
       "      <td>0</td>\n",
       "      <td>0</td>\n",
       "      <td>0</td>\n",
       "      <td>0</td>\n",
       "      <td>0</td>\n",
       "      <td>0</td>\n",
       "      <td>0</td>\n",
       "      <td>0</td>\n",
       "      <td>0</td>\n",
       "      <td>0</td>\n",
       "      <td>0</td>\n",
       "      <td>0</td>\n",
       "      <td>0</td>\n",
       "      <td>0</td>\n",
       "      <td>0</td>\n",
       "      <td>0</td>\n",
       "      <td>0</td>\n",
       "      <td>0</td>\n",
       "      <td>0</td>\n",
       "      <td>0</td>\n",
       "      <td>0</td>\n",
       "      <td>0</td>\n",
       "      <td>0</td>\n",
       "      <td>0</td>\n",
       "      <td>0</td>\n",
       "      <td>...</td>\n",
       "      <td>0</td>\n",
       "      <td>0</td>\n",
       "      <td>0</td>\n",
       "      <td>0</td>\n",
       "      <td>0</td>\n",
       "      <td>0</td>\n",
       "      <td>0</td>\n",
       "      <td>0</td>\n",
       "      <td>0</td>\n",
       "      <td>0</td>\n",
       "      <td>0</td>\n",
       "      <td>0</td>\n",
       "      <td>0</td>\n",
       "      <td>0</td>\n",
       "      <td>0</td>\n",
       "      <td>0</td>\n",
       "      <td>0</td>\n",
       "      <td>0</td>\n",
       "      <td>0</td>\n",
       "      <td>0</td>\n",
       "      <td>0</td>\n",
       "      <td>0</td>\n",
       "      <td>0</td>\n",
       "      <td>0</td>\n",
       "      <td>0</td>\n",
       "      <td>0</td>\n",
       "      <td>0</td>\n",
       "      <td>0</td>\n",
       "      <td>0</td>\n",
       "      <td>0</td>\n",
       "      <td>0</td>\n",
       "      <td>0</td>\n",
       "      <td>0</td>\n",
       "      <td>0</td>\n",
       "      <td>0</td>\n",
       "      <td>0</td>\n",
       "      <td>0</td>\n",
       "      <td>1</td>\n",
       "      <td>0</td>\n",
       "      <td>0</td>\n",
       "    </tr>\n",
       "    <tr>\n",
       "      <th>1</th>\n",
       "      <td>0</td>\n",
       "      <td>0</td>\n",
       "      <td>3</td>\n",
       "      <td>2016-02-29 01:16:00</td>\n",
       "      <td>2016-02-29 01:23:00</td>\n",
       "      <td>2016-02-29 11:29:00</td>\n",
       "      <td>2</td>\n",
       "      <td>0</td>\n",
       "      <td>0</td>\n",
       "      <td>0</td>\n",
       "      <td>0</td>\n",
       "      <td>0</td>\n",
       "      <td>0</td>\n",
       "      <td>1</td>\n",
       "      <td>1</td>\n",
       "      <td>0</td>\n",
       "      <td>0</td>\n",
       "      <td>0</td>\n",
       "      <td>0</td>\n",
       "      <td>0</td>\n",
       "      <td>0</td>\n",
       "      <td>0</td>\n",
       "      <td>0</td>\n",
       "      <td>0</td>\n",
       "      <td>0</td>\n",
       "      <td>0</td>\n",
       "      <td>0</td>\n",
       "      <td>0</td>\n",
       "      <td>0</td>\n",
       "      <td>0</td>\n",
       "      <td>0</td>\n",
       "      <td>0</td>\n",
       "      <td>0</td>\n",
       "      <td>0</td>\n",
       "      <td>0</td>\n",
       "      <td>0</td>\n",
       "      <td>0</td>\n",
       "      <td>0</td>\n",
       "      <td>0</td>\n",
       "      <td>0</td>\n",
       "      <td>...</td>\n",
       "      <td>0</td>\n",
       "      <td>0</td>\n",
       "      <td>0</td>\n",
       "      <td>0</td>\n",
       "      <td>0</td>\n",
       "      <td>0</td>\n",
       "      <td>0</td>\n",
       "      <td>0</td>\n",
       "      <td>0</td>\n",
       "      <td>0</td>\n",
       "      <td>0</td>\n",
       "      <td>0</td>\n",
       "      <td>0</td>\n",
       "      <td>0</td>\n",
       "      <td>0</td>\n",
       "      <td>0</td>\n",
       "      <td>0</td>\n",
       "      <td>0</td>\n",
       "      <td>0</td>\n",
       "      <td>0</td>\n",
       "      <td>0</td>\n",
       "      <td>0</td>\n",
       "      <td>0</td>\n",
       "      <td>0</td>\n",
       "      <td>0</td>\n",
       "      <td>0</td>\n",
       "      <td>0</td>\n",
       "      <td>0</td>\n",
       "      <td>0</td>\n",
       "      <td>0</td>\n",
       "      <td>0</td>\n",
       "      <td>0</td>\n",
       "      <td>0</td>\n",
       "      <td>0</td>\n",
       "      <td>0</td>\n",
       "      <td>0</td>\n",
       "      <td>0</td>\n",
       "      <td>1</td>\n",
       "      <td>0</td>\n",
       "      <td>0</td>\n",
       "    </tr>\n",
       "    <tr>\n",
       "      <th>2</th>\n",
       "      <td>0</td>\n",
       "      <td>0</td>\n",
       "      <td>4</td>\n",
       "      <td>2016-02-29 01:16:00</td>\n",
       "      <td>2016-02-29 01:23:00</td>\n",
       "      <td>2016-03-05 12:00:00</td>\n",
       "      <td>2</td>\n",
       "      <td>0</td>\n",
       "      <td>0</td>\n",
       "      <td>0</td>\n",
       "      <td>0</td>\n",
       "      <td>1</td>\n",
       "      <td>0</td>\n",
       "      <td>0</td>\n",
       "      <td>0</td>\n",
       "      <td>0</td>\n",
       "      <td>0</td>\n",
       "      <td>0</td>\n",
       "      <td>0</td>\n",
       "      <td>0</td>\n",
       "      <td>0</td>\n",
       "      <td>0</td>\n",
       "      <td>0</td>\n",
       "      <td>0</td>\n",
       "      <td>0</td>\n",
       "      <td>0</td>\n",
       "      <td>0</td>\n",
       "      <td>0</td>\n",
       "      <td>0</td>\n",
       "      <td>0</td>\n",
       "      <td>0</td>\n",
       "      <td>0</td>\n",
       "      <td>0</td>\n",
       "      <td>0</td>\n",
       "      <td>0</td>\n",
       "      <td>0</td>\n",
       "      <td>0</td>\n",
       "      <td>0</td>\n",
       "      <td>0</td>\n",
       "      <td>0</td>\n",
       "      <td>...</td>\n",
       "      <td>0</td>\n",
       "      <td>0</td>\n",
       "      <td>0</td>\n",
       "      <td>0</td>\n",
       "      <td>0</td>\n",
       "      <td>0</td>\n",
       "      <td>0</td>\n",
       "      <td>0</td>\n",
       "      <td>0</td>\n",
       "      <td>0</td>\n",
       "      <td>0</td>\n",
       "      <td>0</td>\n",
       "      <td>0</td>\n",
       "      <td>0</td>\n",
       "      <td>0</td>\n",
       "      <td>0</td>\n",
       "      <td>0</td>\n",
       "      <td>0</td>\n",
       "      <td>0</td>\n",
       "      <td>0</td>\n",
       "      <td>0</td>\n",
       "      <td>0</td>\n",
       "      <td>0</td>\n",
       "      <td>0</td>\n",
       "      <td>0</td>\n",
       "      <td>0</td>\n",
       "      <td>0</td>\n",
       "      <td>0</td>\n",
       "      <td>0</td>\n",
       "      <td>0</td>\n",
       "      <td>0</td>\n",
       "      <td>0</td>\n",
       "      <td>0</td>\n",
       "      <td>0</td>\n",
       "      <td>0</td>\n",
       "      <td>0</td>\n",
       "      <td>0</td>\n",
       "      <td>1</td>\n",
       "      <td>0</td>\n",
       "      <td>0</td>\n",
       "    </tr>\n",
       "    <tr>\n",
       "      <th>3</th>\n",
       "      <td>1</td>\n",
       "      <td>0</td>\n",
       "      <td>1</td>\n",
       "      <td>2016-02-29 04:40:00</td>\n",
       "      <td>2016-02-29 04:57:00</td>\n",
       "      <td>2016-02-29 05:30:00</td>\n",
       "      <td>2</td>\n",
       "      <td>0</td>\n",
       "      <td>0</td>\n",
       "      <td>0</td>\n",
       "      <td>0</td>\n",
       "      <td>0</td>\n",
       "      <td>0</td>\n",
       "      <td>0</td>\n",
       "      <td>1</td>\n",
       "      <td>0</td>\n",
       "      <td>0</td>\n",
       "      <td>0</td>\n",
       "      <td>0</td>\n",
       "      <td>0</td>\n",
       "      <td>0</td>\n",
       "      <td>0</td>\n",
       "      <td>0</td>\n",
       "      <td>0</td>\n",
       "      <td>0</td>\n",
       "      <td>0</td>\n",
       "      <td>0</td>\n",
       "      <td>0</td>\n",
       "      <td>0</td>\n",
       "      <td>0</td>\n",
       "      <td>0</td>\n",
       "      <td>0</td>\n",
       "      <td>0</td>\n",
       "      <td>0</td>\n",
       "      <td>0</td>\n",
       "      <td>0</td>\n",
       "      <td>0</td>\n",
       "      <td>0</td>\n",
       "      <td>0</td>\n",
       "      <td>0</td>\n",
       "      <td>...</td>\n",
       "      <td>0</td>\n",
       "      <td>0</td>\n",
       "      <td>0</td>\n",
       "      <td>0</td>\n",
       "      <td>0</td>\n",
       "      <td>0</td>\n",
       "      <td>0</td>\n",
       "      <td>0</td>\n",
       "      <td>0</td>\n",
       "      <td>0</td>\n",
       "      <td>0</td>\n",
       "      <td>0</td>\n",
       "      <td>0</td>\n",
       "      <td>0</td>\n",
       "      <td>0</td>\n",
       "      <td>0</td>\n",
       "      <td>0</td>\n",
       "      <td>0</td>\n",
       "      <td>0</td>\n",
       "      <td>0</td>\n",
       "      <td>0</td>\n",
       "      <td>0</td>\n",
       "      <td>0</td>\n",
       "      <td>0</td>\n",
       "      <td>0</td>\n",
       "      <td>0</td>\n",
       "      <td>0</td>\n",
       "      <td>0</td>\n",
       "      <td>0</td>\n",
       "      <td>0</td>\n",
       "      <td>0</td>\n",
       "      <td>0</td>\n",
       "      <td>0</td>\n",
       "      <td>0</td>\n",
       "      <td>0</td>\n",
       "      <td>0</td>\n",
       "      <td>0</td>\n",
       "      <td>1</td>\n",
       "      <td>0</td>\n",
       "      <td>0</td>\n",
       "    </tr>\n",
       "    <tr>\n",
       "      <th>4</th>\n",
       "      <td>1</td>\n",
       "      <td>0</td>\n",
       "      <td>2</td>\n",
       "      <td>2016-02-29 04:40:00</td>\n",
       "      <td>2016-02-29 04:57:00</td>\n",
       "      <td>2016-02-29 05:33:00</td>\n",
       "      <td>2</td>\n",
       "      <td>0</td>\n",
       "      <td>0</td>\n",
       "      <td>0</td>\n",
       "      <td>0</td>\n",
       "      <td>0</td>\n",
       "      <td>0</td>\n",
       "      <td>0</td>\n",
       "      <td>1</td>\n",
       "      <td>0</td>\n",
       "      <td>0</td>\n",
       "      <td>0</td>\n",
       "      <td>0</td>\n",
       "      <td>0</td>\n",
       "      <td>0</td>\n",
       "      <td>0</td>\n",
       "      <td>0</td>\n",
       "      <td>0</td>\n",
       "      <td>0</td>\n",
       "      <td>0</td>\n",
       "      <td>0</td>\n",
       "      <td>0</td>\n",
       "      <td>0</td>\n",
       "      <td>0</td>\n",
       "      <td>0</td>\n",
       "      <td>0</td>\n",
       "      <td>0</td>\n",
       "      <td>0</td>\n",
       "      <td>0</td>\n",
       "      <td>0</td>\n",
       "      <td>0</td>\n",
       "      <td>0</td>\n",
       "      <td>0</td>\n",
       "      <td>0</td>\n",
       "      <td>...</td>\n",
       "      <td>0</td>\n",
       "      <td>0</td>\n",
       "      <td>0</td>\n",
       "      <td>0</td>\n",
       "      <td>0</td>\n",
       "      <td>0</td>\n",
       "      <td>0</td>\n",
       "      <td>0</td>\n",
       "      <td>0</td>\n",
       "      <td>0</td>\n",
       "      <td>0</td>\n",
       "      <td>0</td>\n",
       "      <td>0</td>\n",
       "      <td>0</td>\n",
       "      <td>0</td>\n",
       "      <td>0</td>\n",
       "      <td>0</td>\n",
       "      <td>0</td>\n",
       "      <td>0</td>\n",
       "      <td>0</td>\n",
       "      <td>0</td>\n",
       "      <td>0</td>\n",
       "      <td>0</td>\n",
       "      <td>0</td>\n",
       "      <td>0</td>\n",
       "      <td>0</td>\n",
       "      <td>0</td>\n",
       "      <td>0</td>\n",
       "      <td>0</td>\n",
       "      <td>0</td>\n",
       "      <td>0</td>\n",
       "      <td>0</td>\n",
       "      <td>0</td>\n",
       "      <td>0</td>\n",
       "      <td>0</td>\n",
       "      <td>0</td>\n",
       "      <td>0</td>\n",
       "      <td>1</td>\n",
       "      <td>0</td>\n",
       "      <td>0</td>\n",
       "    </tr>\n",
       "  </tbody>\n",
       "</table>\n",
       "<p>5 rows × 2370 columns</p>\n",
       "</div>"
      ],
      "text/plain": [
       "   count_reassign  count_opening  ...  confirmation_check_True notify_Send Email\n",
       "0               0              0  ...                        0                 0\n",
       "1               0              0  ...                        0                 0\n",
       "2               0              0  ...                        0                 0\n",
       "3               1              0  ...                        0                 0\n",
       "4               1              0  ...                        0                 0\n",
       "\n",
       "[5 rows x 2370 columns]"
      ]
     },
     "execution_count": 18,
     "metadata": {
      "tags": []
     },
     "output_type": "execute_result"
    }
   ],
   "source": [
    "df_copy['impact'] = df_copy['impact'].map(({'1 - High':1, '2 - Medium':2,'3 - Low':3 }))\n",
    "df_copy.head()"
   ]
  },
  {
   "cell_type": "code",
   "execution_count": null,
   "metadata": {
    "colab": {},
    "colab_type": "code",
    "id": "nTLSZfUT9N21"
   },
   "outputs": [],
   "source": []
  },
  {
   "cell_type": "code",
   "execution_count": null,
   "metadata": {
    "colab": {
     "base_uri": "https://localhost:8080/",
     "height": 51
    },
    "colab_type": "code",
    "id": "f4-3-MIA53Vw",
    "outputId": "a262a1ea-cf14-48d2-8610-aa094fade280"
   },
   "outputs": [
    {
     "name": "stdout",
     "output_type": "stream",
     "text": [
      "(141707, 2366)\n",
      "(141707,)\n"
     ]
    }
   ],
   "source": [
    "X = df_copy.drop(labels=['opened_time',\t'created_at',\t'updated_at',\t'impact'], axis=1)\n",
    "y = df_copy['impact']\n",
    "print(X.shape)\n",
    "print(y.shape)"
   ]
  },
  {
   "cell_type": "code",
   "execution_count": null,
   "metadata": {
    "colab": {},
    "colab_type": "code",
    "id": "b6B1HnBq8N5p"
   },
   "outputs": [],
   "source": [
    "from sklearn.model_selection import train_test_split\n",
    "from sklearn.preprocessing import StandardScaler\n",
    "from sklearn.decomposition import PCA\n",
    "from sklearn.pipeline import Pipeline"
   ]
  },
  {
   "cell_type": "code",
   "execution_count": null,
   "metadata": {
    "colab": {
     "base_uri": "https://localhost:8080/",
     "height": 34
    },
    "colab_type": "code",
    "id": "sjuw7KK19zQr",
    "outputId": "7c8a1621-4fcd-42a6-d6c8-aabf2948bb8c"
   },
   "outputs": [
    {
     "name": "stdout",
     "output_type": "stream",
     "text": [
      "[0.85823932 0.88930293 0.89704985 ... 1.         1.         1.        ]\n"
     ]
    }
   ],
   "source": [
    "pca = PCA( )\n",
    "pca.fit(X)\n",
    "print(pca.explained_variance_ratio_.cumsum())"
   ]
  },
  {
   "cell_type": "code",
   "execution_count": null,
   "metadata": {
    "colab": {},
    "colab_type": "code",
    "id": "pnjzfkXvAwDo"
   },
   "outputs": [],
   "source": [
    "pipe = Pipeline([\n",
    "('scaler', StandardScaler()),\n",
    "('reducer', PCA(n_components=10))])\n",
    "pc = pipe.fit_transform(X)"
   ]
  },
  {
   "cell_type": "code",
   "execution_count": null,
   "metadata": {
    "colab": {
     "base_uri": "https://localhost:8080/",
     "height": 34
    },
    "colab_type": "code",
    "id": "hWm7S42bJml1",
    "outputId": "7e4c9bd8-51d6-4f71-8357-1c9f0fc68cec"
   },
   "outputs": [
    {
     "data": {
      "text/plain": [
       "(141707, 21)"
      ]
     },
     "execution_count": 22,
     "metadata": {
      "tags": []
     },
     "output_type": "execute_result"
    }
   ],
   "source": [
    "df_copy1 = df_new\n",
    "df_copy1.shape"
   ]
  },
  {
   "cell_type": "code",
   "execution_count": null,
   "metadata": {
    "colab": {
     "base_uri": "https://localhost:8080/",
     "height": 309
    },
    "colab_type": "code",
    "id": "ieDi1lvMKZmW",
    "outputId": "6610266e-6648-4a24-eff5-9b16658d9ca6"
   },
   "outputs": [
    {
     "data": {
      "text/html": [
       "<div>\n",
       "<style scoped>\n",
       "    .dataframe tbody tr th:only-of-type {\n",
       "        vertical-align: middle;\n",
       "    }\n",
       "\n",
       "    .dataframe tbody tr th {\n",
       "        vertical-align: top;\n",
       "    }\n",
       "\n",
       "    .dataframe thead th {\n",
       "        text-align: right;\n",
       "    }\n",
       "</style>\n",
       "<table border=\"1\" class=\"dataframe\">\n",
       "  <thead>\n",
       "    <tr style=\"text-align: right;\">\n",
       "      <th></th>\n",
       "      <th>ID_status</th>\n",
       "      <th>active</th>\n",
       "      <th>count_reassign</th>\n",
       "      <th>count_opening</th>\n",
       "      <th>count_updated</th>\n",
       "      <th>opened_by</th>\n",
       "      <th>opened_time</th>\n",
       "      <th>Created_by</th>\n",
       "      <th>created_at</th>\n",
       "      <th>updated_by</th>\n",
       "      <th>updated_at</th>\n",
       "      <th>type_contact</th>\n",
       "      <th>location</th>\n",
       "      <th>category_ID</th>\n",
       "      <th>user_symptom</th>\n",
       "      <th>impact</th>\n",
       "      <th>Support_group</th>\n",
       "      <th>support_incharge</th>\n",
       "      <th>Doc_knowledge</th>\n",
       "      <th>confirmation_check</th>\n",
       "      <th>notify</th>\n",
       "    </tr>\n",
       "  </thead>\n",
       "  <tbody>\n",
       "    <tr>\n",
       "      <th>0</th>\n",
       "      <td>New</td>\n",
       "      <td>True</td>\n",
       "      <td>0</td>\n",
       "      <td>0</td>\n",
       "      <td>0</td>\n",
       "      <td>Opened by  8</td>\n",
       "      <td>2016-02-29 01:16:00</td>\n",
       "      <td>Created by 6</td>\n",
       "      <td>2016-02-29 01:23:00</td>\n",
       "      <td>Updated by 21</td>\n",
       "      <td>2016-02-29 01:23:00</td>\n",
       "      <td>Phone</td>\n",
       "      <td>Location 143</td>\n",
       "      <td>Category 55</td>\n",
       "      <td>Symptom 72</td>\n",
       "      <td>2</td>\n",
       "      <td>Group 56</td>\n",
       "      <td>Resolver 17</td>\n",
       "      <td>True</td>\n",
       "      <td>False</td>\n",
       "      <td>Do Not Notify</td>\n",
       "    </tr>\n",
       "    <tr>\n",
       "      <th>1</th>\n",
       "      <td>Resolved</td>\n",
       "      <td>True</td>\n",
       "      <td>0</td>\n",
       "      <td>0</td>\n",
       "      <td>3</td>\n",
       "      <td>Opened by  8</td>\n",
       "      <td>2016-02-29 01:16:00</td>\n",
       "      <td>Created by 6</td>\n",
       "      <td>2016-02-29 01:23:00</td>\n",
       "      <td>Updated by 804</td>\n",
       "      <td>2016-02-29 11:29:00</td>\n",
       "      <td>Phone</td>\n",
       "      <td>Location 143</td>\n",
       "      <td>Category 55</td>\n",
       "      <td>Symptom 72</td>\n",
       "      <td>2</td>\n",
       "      <td>Group 56</td>\n",
       "      <td>Resolver 17</td>\n",
       "      <td>True</td>\n",
       "      <td>False</td>\n",
       "      <td>Do Not Notify</td>\n",
       "    </tr>\n",
       "    <tr>\n",
       "      <th>2</th>\n",
       "      <td>Closed</td>\n",
       "      <td>False</td>\n",
       "      <td>0</td>\n",
       "      <td>0</td>\n",
       "      <td>4</td>\n",
       "      <td>Opened by  8</td>\n",
       "      <td>2016-02-29 01:16:00</td>\n",
       "      <td>Created by 6</td>\n",
       "      <td>2016-02-29 01:23:00</td>\n",
       "      <td>Updated by 908</td>\n",
       "      <td>2016-03-05 12:00:00</td>\n",
       "      <td>Phone</td>\n",
       "      <td>Location 143</td>\n",
       "      <td>Category 55</td>\n",
       "      <td>Symptom 72</td>\n",
       "      <td>2</td>\n",
       "      <td>Group 56</td>\n",
       "      <td>Resolver 17</td>\n",
       "      <td>True</td>\n",
       "      <td>False</td>\n",
       "      <td>Do Not Notify</td>\n",
       "    </tr>\n",
       "    <tr>\n",
       "      <th>3</th>\n",
       "      <td>Active</td>\n",
       "      <td>True</td>\n",
       "      <td>1</td>\n",
       "      <td>0</td>\n",
       "      <td>1</td>\n",
       "      <td>Opened by  397</td>\n",
       "      <td>2016-02-29 04:40:00</td>\n",
       "      <td>Created by 171</td>\n",
       "      <td>2016-02-29 04:57:00</td>\n",
       "      <td>Updated by 21</td>\n",
       "      <td>2016-02-29 05:30:00</td>\n",
       "      <td>Phone</td>\n",
       "      <td>Location 165</td>\n",
       "      <td>Category 40</td>\n",
       "      <td>Symptom 471</td>\n",
       "      <td>2</td>\n",
       "      <td>Group 24</td>\n",
       "      <td>Resolver 31</td>\n",
       "      <td>True</td>\n",
       "      <td>False</td>\n",
       "      <td>Do Not Notify</td>\n",
       "    </tr>\n",
       "    <tr>\n",
       "      <th>4</th>\n",
       "      <td>Active</td>\n",
       "      <td>True</td>\n",
       "      <td>1</td>\n",
       "      <td>0</td>\n",
       "      <td>2</td>\n",
       "      <td>Opened by  397</td>\n",
       "      <td>2016-02-29 04:40:00</td>\n",
       "      <td>Created by 171</td>\n",
       "      <td>2016-02-29 04:57:00</td>\n",
       "      <td>Updated by 21</td>\n",
       "      <td>2016-02-29 05:33:00</td>\n",
       "      <td>Phone</td>\n",
       "      <td>Location 165</td>\n",
       "      <td>Category 40</td>\n",
       "      <td>Symptom 471</td>\n",
       "      <td>2</td>\n",
       "      <td>Group 24</td>\n",
       "      <td>Resolver 31</td>\n",
       "      <td>True</td>\n",
       "      <td>False</td>\n",
       "      <td>Do Not Notify</td>\n",
       "    </tr>\n",
       "  </tbody>\n",
       "</table>\n",
       "</div>"
      ],
      "text/plain": [
       "  ID_status  active  ...  confirmation_check         notify\n",
       "0       New    True  ...               False  Do Not Notify\n",
       "1  Resolved    True  ...               False  Do Not Notify\n",
       "2    Closed   False  ...               False  Do Not Notify\n",
       "3    Active    True  ...               False  Do Not Notify\n",
       "4    Active    True  ...               False  Do Not Notify\n",
       "\n",
       "[5 rows x 21 columns]"
      ]
     },
     "execution_count": 23,
     "metadata": {
      "tags": []
     },
     "output_type": "execute_result"
    }
   ],
   "source": [
    "df_copy1['impact'] = df_copy1['impact'].map(({'1 - High':1, '2 - Medium':2,'3 - Low':3 }))\n",
    "df_copy1.head()"
   ]
  },
  {
   "cell_type": "code",
   "execution_count": null,
   "metadata": {
    "colab": {},
    "colab_type": "code",
    "id": "gvCUvTorKBii"
   },
   "outputs": [],
   "source": [
    "X_temp = df_copy1.drop(labels=['opened_time',\t'created_at',\t'updated_at',\t'impact'], axis=1)\n",
    "y_temp = df_copy1['impact']"
   ]
  },
  {
   "cell_type": "code",
   "execution_count": null,
   "metadata": {
    "colab": {},
    "colab_type": "code",
    "id": "miDdQqc3LNJQ"
   },
   "outputs": [],
   "source": [
    "from sklearn.preprocessing import LabelEncoder, OneHotEncoder\n",
    "label_encoders = {}\n",
    "categorical_columns = X_temp.columns  \n",
    "for column in categorical_columns:\n",
    "    label_encoders[column] = LabelEncoder()\n",
    "    X_temp[column] = label_encoders[column].fit_transform(X_temp[column])"
   ]
  },
  {
   "cell_type": "code",
   "execution_count": null,
   "metadata": {
    "colab": {
     "base_uri": "https://localhost:8080/",
     "height": 136
    },
    "colab_type": "code",
    "id": "aeDqyN1CC2Qk",
    "outputId": "9cff6371-6d50-410e-9ee7-af7debdd88de"
   },
   "outputs": [
    {
     "data": {
      "text/plain": [
       "RandomForestRegressor(bootstrap=True, ccp_alpha=0.0, criterion='mse',\n",
       "                      max_depth=None, max_features='auto', max_leaf_nodes=None,\n",
       "                      max_samples=None, min_impurity_decrease=0.0,\n",
       "                      min_impurity_split=None, min_samples_leaf=0.12,\n",
       "                      min_samples_split=2, min_weight_fraction_leaf=0.0,\n",
       "                      n_estimators=400, n_jobs=None, oob_score=False,\n",
       "                      random_state=100, verbose=0, warm_start=False)"
      ]
     },
     "execution_count": 28,
     "metadata": {
      "tags": []
     },
     "output_type": "execute_result"
    }
   ],
   "source": [
    "from sklearn.ensemble import RandomForestRegressor\n",
    "rf = RandomForestRegressor(n_estimators=100,min_samples_leaf=0.12,random_state=100)\n",
    "# Fit 'rf' to the training set\n",
    "rf.fit(X_temp, y_temp)"
   ]
  },
  {
   "cell_type": "code",
   "execution_count": null,
   "metadata": {
    "colab": {
     "base_uri": "https://localhost:8080/",
     "height": 265
    },
    "colab_type": "code",
    "id": "P51xDIqGCf8V",
    "outputId": "3c8f2e9f-1f3b-4a4a-f7a7-2dcb5afbadd0"
   },
   "outputs": [
    {
     "data": {
      "image/png": "[encoded data removed]",
      "text/plain": [
       "<Figure size 432x288 with 1 Axes>"
      ]
     },
     "metadata": {
      "needs_background": "light",
      "tags": []
     },
     "output_type": "display_data"
    }
   ],
   "source": [
    "import pandas as pd\n",
    "import matplotlib.pyplot as plt\n",
    "# Create a pd.Series of features importances\n",
    "importances_rf = pd.Series(rf.feature_importances_, index = X_temp.columns)\n",
    "# Sort importances_rf\n",
    "sorted_importances_rf = importances_rf.sort_values()\n",
    "# Make a horizontal bar plot\n",
    "sorted_importances_rf.plot(kind='barh', color='lightgreen');\n",
    "plt.show()"
   ]
  },
  {
   "cell_type": "code",
   "execution_count": null,
   "metadata": {
    "colab": {
     "base_uri": "https://localhost:8080/",
     "height": 119
    },
    "colab_type": "code",
    "id": "JKgQYHgaM-40",
    "outputId": "26034005-a887-4830-ca49-517807fbdb4a"
   },
   "outputs": [
    {
     "data": {
      "text/plain": [
       "Index(['ID_status', 'active', 'count_reassign', 'count_opening',\n",
       "       'count_updated', 'opened_by', 'Created_by', 'updated_by',\n",
       "       'type_contact', 'location', 'category_ID', 'user_symptom',\n",
       "       'Support_group', 'support_incharge', 'Doc_knowledge',\n",
       "       'confirmation_check', 'notify'],\n",
       "      dtype='object')"
      ]
     },
     "execution_count": 32,
     "metadata": {
      "tags": []
     },
     "output_type": "execute_result"
    }
   ],
   "source": [
    "X_temp.columns"
   ]
  },
  {
   "cell_type": "code",
   "execution_count": null,
   "metadata": {
    "colab": {
     "base_uri": "https://localhost:8080/",
     "height": 34
    },
    "colab_type": "code",
    "id": "mnqC3uJXNHKy",
    "outputId": "12acc27c-e518-4936-fbcc-bac3b43e5a6f"
   },
   "outputs": [
    {
     "data": {
      "text/plain": [
       "(141707,)"
      ]
     },
     "execution_count": 38,
     "metadata": {
      "tags": []
     },
     "output_type": "execute_result"
    }
   ],
   "source": [
    "X1 = X_temp[['opened_by', 'count_updated', 'Support_group', 'category_ID', 'ID_status']]\n",
    "y1 = df_new['impact']\n",
    "X1.shape\n",
    "y1.shape"
   ]
  },
  {
   "cell_type": "code",
   "execution_count": null,
   "metadata": {
    "colab": {
     "base_uri": "https://localhost:8080/",
     "height": 357
    },
    "colab_type": "code",
    "id": "fSkixbO5OMnq",
    "outputId": "66067a69-7442-480c-fad0-8b0111358fca"
   },
   "outputs": [
    {
     "ename": "ValueError",
     "evalue": "ignored",
     "output_type": "error",
     "traceback": [
      "\u001b[0;31m---------------------------------------------------------------------------\u001b[0m",
      "\u001b[0;31mValueError\u001b[0m                                Traceback (most recent call last)",
      "\u001b[0;32m<ipython-input-39-551c30cc7a80>\u001b[0m in \u001b[0;36m<module>\u001b[0;34m()\u001b[0m\n\u001b[1;32m     12\u001b[0m \u001b[0my_pred\u001b[0m \u001b[0;34m=\u001b[0m \u001b[0mrf\u001b[0m\u001b[0;34m.\u001b[0m\u001b[0mpredict\u001b[0m\u001b[0;34m(\u001b[0m\u001b[0mX_test\u001b[0m\u001b[0;34m)\u001b[0m\u001b[0;34m\u001b[0m\u001b[0;34m\u001b[0m\u001b[0m\n\u001b[1;32m     13\u001b[0m \u001b[0;31m# Evaluate the test set\u001b[0m\u001b[0;34m\u001b[0m\u001b[0;34m\u001b[0m\u001b[0;34m\u001b[0m\u001b[0m\n\u001b[0;32m---> 14\u001b[0;31m \u001b[0maccuracy\u001b[0m \u001b[0;34m=\u001b[0m \u001b[0maccuracy_score\u001b[0m\u001b[0;34m(\u001b[0m\u001b[0my_test\u001b[0m\u001b[0;34m,\u001b[0m \u001b[0my_pred\u001b[0m\u001b[0;34m)\u001b[0m\u001b[0;34m\u001b[0m\u001b[0;34m\u001b[0m\u001b[0m\n\u001b[0m\u001b[1;32m     15\u001b[0m \u001b[0mprint\u001b[0m\u001b[0;34m(\u001b[0m\u001b[0;34m'Accuracy of RF Classifier: {:.3f}'\u001b[0m\u001b[0;34m.\u001b[0m\u001b[0mformat\u001b[0m\u001b[0;34m(\u001b[0m\u001b[0maccuracy\u001b[0m\u001b[0;34m)\u001b[0m\u001b[0;34m)\u001b[0m\u001b[0;34m\u001b[0m\u001b[0;34m\u001b[0m\u001b[0m\n",
      "\u001b[0;32m/usr/local/lib/python3.6/dist-packages/sklearn/metrics/_classification.py\u001b[0m in \u001b[0;36maccuracy_score\u001b[0;34m(y_true, y_pred, normalize, sample_weight)\u001b[0m\n\u001b[1;32m    183\u001b[0m \u001b[0;34m\u001b[0m\u001b[0m\n\u001b[1;32m    184\u001b[0m     \u001b[0;31m# Compute accuracy for each possible representation\u001b[0m\u001b[0;34m\u001b[0m\u001b[0;34m\u001b[0m\u001b[0;34m\u001b[0m\u001b[0m\n\u001b[0;32m--> 185\u001b[0;31m     \u001b[0my_type\u001b[0m\u001b[0;34m,\u001b[0m \u001b[0my_true\u001b[0m\u001b[0;34m,\u001b[0m \u001b[0my_pred\u001b[0m \u001b[0;34m=\u001b[0m \u001b[0m_check_targets\u001b[0m\u001b[0;34m(\u001b[0m\u001b[0my_true\u001b[0m\u001b[0;34m,\u001b[0m \u001b[0my_pred\u001b[0m\u001b[0;34m)\u001b[0m\u001b[0;34m\u001b[0m\u001b[0;34m\u001b[0m\u001b[0m\n\u001b[0m\u001b[1;32m    186\u001b[0m     \u001b[0mcheck_consistent_length\u001b[0m\u001b[0;34m(\u001b[0m\u001b[0my_true\u001b[0m\u001b[0;34m,\u001b[0m \u001b[0my_pred\u001b[0m\u001b[0;34m,\u001b[0m \u001b[0msample_weight\u001b[0m\u001b[0;34m)\u001b[0m\u001b[0;34m\u001b[0m\u001b[0;34m\u001b[0m\u001b[0m\n\u001b[1;32m    187\u001b[0m     \u001b[0;32mif\u001b[0m \u001b[0my_type\u001b[0m\u001b[0;34m.\u001b[0m\u001b[0mstartswith\u001b[0m\u001b[0;34m(\u001b[0m\u001b[0;34m'multilabel'\u001b[0m\u001b[0;34m)\u001b[0m\u001b[0;34m:\u001b[0m\u001b[0;34m\u001b[0m\u001b[0;34m\u001b[0m\u001b[0m\n",
      "\u001b[0;32m/usr/local/lib/python3.6/dist-packages/sklearn/metrics/_classification.py\u001b[0m in \u001b[0;36m_check_targets\u001b[0;34m(y_true, y_pred)\u001b[0m\n\u001b[1;32m     88\u001b[0m     \u001b[0;32mif\u001b[0m \u001b[0mlen\u001b[0m\u001b[0;34m(\u001b[0m\u001b[0my_type\u001b[0m\u001b[0;34m)\u001b[0m \u001b[0;34m>\u001b[0m \u001b[0;36m1\u001b[0m\u001b[0;34m:\u001b[0m\u001b[0;34m\u001b[0m\u001b[0;34m\u001b[0m\u001b[0m\n\u001b[1;32m     89\u001b[0m         raise ValueError(\"Classification metrics can't handle a mix of {0} \"\n\u001b[0;32m---> 90\u001b[0;31m                          \"and {1} targets\".format(type_true, type_pred))\n\u001b[0m\u001b[1;32m     91\u001b[0m \u001b[0;34m\u001b[0m\u001b[0m\n\u001b[1;32m     92\u001b[0m     \u001b[0;31m# We can't have more than one value on y_type => The set is no more needed\u001b[0m\u001b[0;34m\u001b[0m\u001b[0;34m\u001b[0m\u001b[0;34m\u001b[0m\u001b[0m\n",
      "\u001b[0;31mValueError\u001b[0m: Classification metrics can't handle a mix of multiclass and continuous targets"
     ]
    }
   ],
   "source": [
    "from sklearn.ensemble import RandomForestRegressor\n",
    "from sklearn.model_selection import train_test_split\n",
    "from sklearn.metrics import accuracy_score\n",
    "# Set seed for reproducibility\n",
    "SEED = 100\n",
    "# Split dataset into 70% train and 30% test\n",
    "X_train, X_test, y_train, y_test = train_test_split(X1, y1,test_size=0.3,random_state=SEED)\n",
    "rf = RandomForestRegressor(n_estimators=400,min_samples_leaf=0.12,random_state=SEED)\n",
    "# Fit 'rf' to the training set\n",
    "rf.fit(X_train, y_train)\n",
    "# Predict the test set labels 'y_pred'\n",
    "y_pred = rf.predict(X_test)\n",
    "# Evaluate the test set \n",
    "accuracy = accuracy_score(y_test, y_pred)\n",
    "print('Accuracy of RF Classifier: {:.3f}'.format(accuracy))"
   ]
  }
 ],
 "metadata": {
  "colab": {
   "collapsed_sections": [],
   "name": "Feature Selection Rough Work.ipynb",
   "provenance": []
  },
  "kernelspec": {
   "display_name": "Python 3",
   "language": "python",
   "name": "python3"
  },
  "language_info": {
   "codemirror_mode": {
    "name": "ipython",
    "version": 3
   },
   "file_extension": ".py",
   "mimetype": "text/x-python",
   "name": "python",
   "nbconvert_exporter": "python",
   "pygments_lexer": "ipython3",
   "version": "3.7.4"
  }
 },
 "nbformat": 4,
 "nbformat_minor": 1
}
