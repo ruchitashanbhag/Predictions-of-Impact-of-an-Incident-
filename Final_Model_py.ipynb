{
  "nbformat": 4,
  "nbformat_minor": 0,
  "metadata": {
    "colab": {
      "name": "Impact_Prediction final Model.py",
      "provenance": []
    },
    "kernelspec": {
      "name": "python3",
      "display_name": "Python 3"
    }
  },
  "cells": [
    {
      "cell_type": "code",
      "metadata": {
        "id": "VG65KFPNIUit",
        "outputId": "58832671-7028-4d4e-b617-6380a9d71112",
        "colab": {
          "base_uri": "https://localhost:8080/",
          "height": 34
        }
      },
      "source": [
        "from google.colab import drive\n",
        "drive.mount('/content/gdrive')"
      ],
      "execution_count": null,
      "outputs": [
        {
          "output_type": "stream",
          "text": [
            "Mounted at /content/gdrive\n"
          ],
          "name": "stdout"
        }
      ]
    },
    {
      "cell_type": "code",
      "metadata": {
        "id": "DPwaibytIot8",
        "outputId": "b28c90e9-b556-4bd4-aca4-77bc3f05465d",
        "colab": {
          "base_uri": "https://localhost:8080/",
          "height": 34
        }
      },
      "source": [
        "import pandas as pd\n",
        "df = pd.read_excel('/content/gdrive/My Drive/Colab Notebooks/Datasets/Incidents_service.xlsx')\n",
        "df.shape"
      ],
      "execution_count": null,
      "outputs": [
        {
          "output_type": "execute_result",
          "data": {
            "text/plain": [
              "(141712, 25)"
            ]
          },
          "metadata": {
            "tags": []
          },
          "execution_count": 2
        }
      ]
    },
    {
      "cell_type": "code",
      "metadata": {
        "id": "wipwEQJBEeSL"
      },
      "source": [
        "# Loading model to compare the results\n",
        "model = pickle.load(open('model.pkl','rb'))"
      ],
      "execution_count": null,
      "outputs": []
    },
    {
      "cell_type": "code",
      "metadata": {
        "id": "6pdpDOrkGAIo"
      },
      "source": [
        "records = pd.DataFrame(X_test[0:99])\n",
        "records.to_csv('100_records')"
      ],
      "execution_count": null,
      "outputs": []
    },
    {
      "cell_type": "code",
      "metadata": {
        "id": "WFgJmRaj227b"
      },
      "source": [
        "# Loading model to compare the results\n",
        "model = pickle.load(open('model_dt.pkl','rb'))"
      ],
      "execution_count": null,
      "outputs": []
    },
    {
      "cell_type": "code",
      "metadata": {
        "id": "heHRAaio5hYu",
        "outputId": "2beb1351-2823-4b74-8f49-a8059b631a14",
        "colab": {
          "base_uri": "https://localhost:8080/",
          "height": 782
        }
      },
      "source": [
        "from sklearn.tree import DecisionTreeClassifier\n",
        "from sklearn.model_selection import train_test_split\n",
        "import pickle\n",
        "from sklearn.preprocessing import LabelEncoder\n",
        "\n",
        "df_new = df[[ 'count_updated', 'opened_by', 'Support_group', 'category_ID', 'ID_status','impact']]\n",
        "df_new = df_new[df_new.ID_status != -100]\n",
        "X = df_new.drop(columns= 'impact')\n",
        "y = df_new['impact']\n",
        "X_train, X_test, y_train, y_test = train_test_split(X, y, test_size=0.3, random_state=101, stratify= y)\n",
        "\n",
        "\n",
        "\n",
        "le = LabelEncoder()\n",
        "X_train['opened_by'] = le.fit_transform(X_train['opened_by'])\n",
        "output = open('opened_by_encoder.pkl', 'wb')\n",
        "pickle.dump(le, output)\n",
        "output.close()\n",
        "pkl_file = open('opened_by_encoder.pkl', 'rb')\n",
        "le_test = pickle.load(pkl_file) \n",
        "pkl_file.close()\n",
        "X_test['opened_by'] = le_test.transform(X_test['opened_by'])\n",
        "\n",
        "\n",
        "\n",
        "\n",
        "X_train['Support_group'] = le.fit_transform(X_train['Support_group'])\n",
        "output = open('Support_group_encoder.pkl', 'wb')\n",
        "pickle.dump(le, output)\n",
        "output.close()\n",
        "pkl_file = open('Support_group_encoder.pkl', 'rb')\n",
        "le_test = pickle.load(pkl_file) \n",
        "pkl_file.close()\n",
        "X_test['Support_group'] = le_test.transform(X_test['Support_group'])\n",
        "\n",
        "\n",
        "\n",
        "X_train['category_ID'] = le.fit_transform(X_train['category_ID'])\n",
        "output = open('category_ID_encoder.pkl', 'wb')\n",
        "pickle.dump(le, output)\n",
        "output.close()\n",
        "pkl_file = open('category_ID_encoder.pkl', 'rb')\n",
        "le_test = pickle.load(pkl_file) \n",
        "pkl_file.close()\n",
        "X_test['category_ID'] = le_test.transform(X_test['category_ID'])\n",
        "\n",
        "\n",
        "\n",
        "X_train['ID_status'] = le.fit_transform(X_train['ID_status'])\n",
        "output = open('ID_status_encoder.pkl', 'wb')\n",
        "pickle.dump(le, output)\n",
        "output.close()\n",
        "pkl_file = open('ID_status_encoder.pkl', 'rb')\n",
        "le_test = pickle.load(pkl_file) \n",
        "pkl_file.close()\n",
        "X_test['ID_status'] = le_test.transform(X_test['ID_status'])\n",
        "\n",
        "\n",
        "\n",
        "\n",
        "dt = DecisionTreeClassifier(random_state=101)\n",
        "dt.fit(X_train, y_train)\n",
        "\n",
        "# Saving model to disk\n",
        "pickle.dump(dt, open('model_dt.pkl','wb'))\n",
        "\n",
        "# Loading model to compare the results\n",
        "model = pickle.load(open('model_dt.pkl','rb'))\n",
        "\n",
        "# Testing on Test dataset\n",
        "from sklearn.metrics import accuracy_score, classification_report, confusion_matrix\n",
        "\n",
        "y_pred = model.predict(X_test)\n",
        "print(accuracy_score(y_test, y_pred))\n",
        "print(confusion_matrix(y_test, y_pred))"
      ],
      "execution_count": null,
      "outputs": [
        {
          "output_type": "stream",
          "text": [
            "/usr/local/lib/python3.6/dist-packages/ipykernel_launcher.py:13: SettingWithCopyWarning: \n",
            "A value is trying to be set on a copy of a slice from a DataFrame.\n",
            "Try using .loc[row_indexer,col_indexer] = value instead\n",
            "\n",
            "See the caveats in the documentation: https://pandas.pydata.org/pandas-docs/stable/user_guide/indexing.html#returning-a-view-versus-a-copy\n",
            "  del sys.path[0]\n",
            "/usr/local/lib/python3.6/dist-packages/ipykernel_launcher.py:20: SettingWithCopyWarning: \n",
            "A value is trying to be set on a copy of a slice from a DataFrame.\n",
            "Try using .loc[row_indexer,col_indexer] = value instead\n",
            "\n",
            "See the caveats in the documentation: https://pandas.pydata.org/pandas-docs/stable/user_guide/indexing.html#returning-a-view-versus-a-copy\n",
            "/usr/local/lib/python3.6/dist-packages/ipykernel_launcher.py:25: SettingWithCopyWarning: \n",
            "A value is trying to be set on a copy of a slice from a DataFrame.\n",
            "Try using .loc[row_indexer,col_indexer] = value instead\n",
            "\n",
            "See the caveats in the documentation: https://pandas.pydata.org/pandas-docs/stable/user_guide/indexing.html#returning-a-view-versus-a-copy\n",
            "/usr/local/lib/python3.6/dist-packages/ipykernel_launcher.py:32: SettingWithCopyWarning: \n",
            "A value is trying to be set on a copy of a slice from a DataFrame.\n",
            "Try using .loc[row_indexer,col_indexer] = value instead\n",
            "\n",
            "See the caveats in the documentation: https://pandas.pydata.org/pandas-docs/stable/user_guide/indexing.html#returning-a-view-versus-a-copy\n",
            "/usr/local/lib/python3.6/dist-packages/ipykernel_launcher.py:36: SettingWithCopyWarning: \n",
            "A value is trying to be set on a copy of a slice from a DataFrame.\n",
            "Try using .loc[row_indexer,col_indexer] = value instead\n",
            "\n",
            "See the caveats in the documentation: https://pandas.pydata.org/pandas-docs/stable/user_guide/indexing.html#returning-a-view-versus-a-copy\n",
            "/usr/local/lib/python3.6/dist-packages/ipykernel_launcher.py:43: SettingWithCopyWarning: \n",
            "A value is trying to be set on a copy of a slice from a DataFrame.\n",
            "Try using .loc[row_indexer,col_indexer] = value instead\n",
            "\n",
            "See the caveats in the documentation: https://pandas.pydata.org/pandas-docs/stable/user_guide/indexing.html#returning-a-view-versus-a-copy\n",
            "/usr/local/lib/python3.6/dist-packages/ipykernel_launcher.py:47: SettingWithCopyWarning: \n",
            "A value is trying to be set on a copy of a slice from a DataFrame.\n",
            "Try using .loc[row_indexer,col_indexer] = value instead\n",
            "\n",
            "See the caveats in the documentation: https://pandas.pydata.org/pandas-docs/stable/user_guide/indexing.html#returning-a-view-versus-a-copy\n",
            "/usr/local/lib/python3.6/dist-packages/ipykernel_launcher.py:54: SettingWithCopyWarning: \n",
            "A value is trying to be set on a copy of a slice from a DataFrame.\n",
            "Try using .loc[row_indexer,col_indexer] = value instead\n",
            "\n",
            "See the caveats in the documentation: https://pandas.pydata.org/pandas-docs/stable/user_guide/indexing.html#returning-a-view-versus-a-copy\n"
          ],
          "name": "stderr"
        },
        {
          "output_type": "stream",
          "text": [
            "0.9483922564862513\n",
            "[[  503   535     9]\n",
            " [  622 39322   356]\n",
            " [   13   659   494]]\n"
          ],
          "name": "stdout"
        }
      ]
    },
    {
      "cell_type": "code",
      "metadata": {
        "id": "kdMSbUKHsBp6",
        "outputId": "a513ea61-2946-4708-d3e3-60674b6c1ff4",
        "colab": {
          "base_uri": "https://localhost:8080/",
          "height": 85
        }
      },
      "source": [
        "from xgboost import XGBClassifier\n",
        "xgb = XGBClassifier(n_estimator = 100)\n",
        "xgb.fit(X_train, y_train)\n",
        "\n",
        "# Saving model to disk\n",
        "pickle.dump(xgb, open('model_xgb.pkl','wb'))\n",
        "\n",
        "# Loading model to compare the results\n",
        "model = pickle.load(open('model_xgb.pkl','rb'))\n",
        "\n",
        "# Testing on Test dataset\n",
        "from sklearn.metrics import accuracy_score, classification_report, confusion_matrix\n",
        "\n",
        "y_pred = model.predict(X_test)\n",
        "print(accuracy_score(y_test, y_pred))\n",
        "print(confusion_matrix(y_test, y_pred))"
      ],
      "execution_count": null,
      "outputs": [
        {
          "output_type": "stream",
          "text": [
            "0.9492155340719309\n",
            "[[   13  1034     0]\n",
            " [    2 40294     4]\n",
            " [    0  1119    47]]\n"
          ],
          "name": "stdout"
        }
      ]
    },
    {
      "cell_type": "code",
      "metadata": {
        "id": "XFAujImatmjo"
      },
      "source": [
        ""
      ],
      "execution_count": null,
      "outputs": []
    }
  ]
}